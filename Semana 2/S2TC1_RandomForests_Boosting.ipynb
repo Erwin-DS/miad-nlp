{
  "cells": [
    {
      "cell_type": "markdown",
      "metadata": {
        "id": "eJtK7BfI556N"
      },
      "source": [
        "![image info](https://raw.githubusercontent.com/albahnsen/MIAD_ML_and_NLP/main/images/banner_1.png)"
      ]
    },
    {
      "cell_type": "markdown",
      "metadata": {
        "id": "0VkfSyIh556S"
      },
      "source": [
        "# Taller: Construcción e implementación de modelos Bagging, Random Forest y XGBoost\n",
        "\n",
        "En este taller podrán poner en práctica sus conocimientos sobre la construcción e implementación de modelos de Bagging, Random Forest y XGBoost. El taller está constituido por 8 puntos, en los cuales deberan seguir las intrucciones de cada numeral para su desarrollo."
      ]
    },
    {
      "cell_type": "markdown",
      "metadata": {
        "id": "NO06_5jm556U"
      },
      "source": [
        "## Datos predicción precio de automóviles\n",
        "\n",
        "En este taller se usará el conjunto de datos de Car Listings de Kaggle donde cada observación representa el precio de un automóvil teniendo en cuenta distintas variables como año, marca, modelo, entre otras. El objetivo es predecir el precio del automóvil. Para más detalles puede visitar el siguiente enlace: [datos](https://www.kaggle.com/jpayne/852k-used-car-listings)."
      ]
    },
    {
      "cell_type": "code",
      "execution_count": 1,
      "metadata": {
        "id": "dgK6j11s556V"
      },
      "outputs": [],
      "source": [
        "import warnings\n",
        "warnings.filterwarnings('ignore')"
      ]
    },
    {
      "cell_type": "code",
      "execution_count": 2,
      "metadata": {
        "colab": {
          "base_uri": "https://localhost:8080/",
          "height": 206
        },
        "id": "mCXH4k9I556Y",
        "outputId": "0324b43e-229f-4b28-8bc5-e9e973655813"
      },
      "outputs": [
        {
          "output_type": "execute_result",
          "data": {
            "text/plain": [
              "     Price  Year  Mileage  M_Camry  M_Camry4dr  M_CamryBase  M_CamryL  \\\n",
              "7    21995  2014     6480        0           0            0         1   \n",
              "11   13995  2014    39972        0           0            0         0   \n",
              "167  17941  2016    18989        0           0            0         0   \n",
              "225  12493  2014    51330        0           0            0         1   \n",
              "270   7994  2007   116065        0           1            0         0   \n",
              "\n",
              "     M_CamryLE  M_CamrySE  M_CamryXLE  \n",
              "7            0          0           0  \n",
              "11           1          0           0  \n",
              "167          0          1           0  \n",
              "225          0          0           0  \n",
              "270          0          0           0  "
            ],
            "text/html": [
              "\n",
              "  <div id=\"df-6699bc58-a66e-48dc-b36b-0474153a88a3\">\n",
              "    <div class=\"colab-df-container\">\n",
              "      <div>\n",
              "<style scoped>\n",
              "    .dataframe tbody tr th:only-of-type {\n",
              "        vertical-align: middle;\n",
              "    }\n",
              "\n",
              "    .dataframe tbody tr th {\n",
              "        vertical-align: top;\n",
              "    }\n",
              "\n",
              "    .dataframe thead th {\n",
              "        text-align: right;\n",
              "    }\n",
              "</style>\n",
              "<table border=\"1\" class=\"dataframe\">\n",
              "  <thead>\n",
              "    <tr style=\"text-align: right;\">\n",
              "      <th></th>\n",
              "      <th>Price</th>\n",
              "      <th>Year</th>\n",
              "      <th>Mileage</th>\n",
              "      <th>M_Camry</th>\n",
              "      <th>M_Camry4dr</th>\n",
              "      <th>M_CamryBase</th>\n",
              "      <th>M_CamryL</th>\n",
              "      <th>M_CamryLE</th>\n",
              "      <th>M_CamrySE</th>\n",
              "      <th>M_CamryXLE</th>\n",
              "    </tr>\n",
              "  </thead>\n",
              "  <tbody>\n",
              "    <tr>\n",
              "      <th>7</th>\n",
              "      <td>21995</td>\n",
              "      <td>2014</td>\n",
              "      <td>6480</td>\n",
              "      <td>0</td>\n",
              "      <td>0</td>\n",
              "      <td>0</td>\n",
              "      <td>1</td>\n",
              "      <td>0</td>\n",
              "      <td>0</td>\n",
              "      <td>0</td>\n",
              "    </tr>\n",
              "    <tr>\n",
              "      <th>11</th>\n",
              "      <td>13995</td>\n",
              "      <td>2014</td>\n",
              "      <td>39972</td>\n",
              "      <td>0</td>\n",
              "      <td>0</td>\n",
              "      <td>0</td>\n",
              "      <td>0</td>\n",
              "      <td>1</td>\n",
              "      <td>0</td>\n",
              "      <td>0</td>\n",
              "    </tr>\n",
              "    <tr>\n",
              "      <th>167</th>\n",
              "      <td>17941</td>\n",
              "      <td>2016</td>\n",
              "      <td>18989</td>\n",
              "      <td>0</td>\n",
              "      <td>0</td>\n",
              "      <td>0</td>\n",
              "      <td>0</td>\n",
              "      <td>0</td>\n",
              "      <td>1</td>\n",
              "      <td>0</td>\n",
              "    </tr>\n",
              "    <tr>\n",
              "      <th>225</th>\n",
              "      <td>12493</td>\n",
              "      <td>2014</td>\n",
              "      <td>51330</td>\n",
              "      <td>0</td>\n",
              "      <td>0</td>\n",
              "      <td>0</td>\n",
              "      <td>1</td>\n",
              "      <td>0</td>\n",
              "      <td>0</td>\n",
              "      <td>0</td>\n",
              "    </tr>\n",
              "    <tr>\n",
              "      <th>270</th>\n",
              "      <td>7994</td>\n",
              "      <td>2007</td>\n",
              "      <td>116065</td>\n",
              "      <td>0</td>\n",
              "      <td>1</td>\n",
              "      <td>0</td>\n",
              "      <td>0</td>\n",
              "      <td>0</td>\n",
              "      <td>0</td>\n",
              "      <td>0</td>\n",
              "    </tr>\n",
              "  </tbody>\n",
              "</table>\n",
              "</div>\n",
              "      <button class=\"colab-df-convert\" onclick=\"convertToInteractive('df-6699bc58-a66e-48dc-b36b-0474153a88a3')\"\n",
              "              title=\"Convert this dataframe to an interactive table.\"\n",
              "              style=\"display:none;\">\n",
              "        \n",
              "  <svg xmlns=\"http://www.w3.org/2000/svg\" height=\"24px\"viewBox=\"0 0 24 24\"\n",
              "       width=\"24px\">\n",
              "    <path d=\"M0 0h24v24H0V0z\" fill=\"none\"/>\n",
              "    <path d=\"M18.56 5.44l.94 2.06.94-2.06 2.06-.94-2.06-.94-.94-2.06-.94 2.06-2.06.94zm-11 1L8.5 8.5l.94-2.06 2.06-.94-2.06-.94L8.5 2.5l-.94 2.06-2.06.94zm10 10l.94 2.06.94-2.06 2.06-.94-2.06-.94-.94-2.06-.94 2.06-2.06.94z\"/><path d=\"M17.41 7.96l-1.37-1.37c-.4-.4-.92-.59-1.43-.59-.52 0-1.04.2-1.43.59L10.3 9.45l-7.72 7.72c-.78.78-.78 2.05 0 2.83L4 21.41c.39.39.9.59 1.41.59.51 0 1.02-.2 1.41-.59l7.78-7.78 2.81-2.81c.8-.78.8-2.07 0-2.86zM5.41 20L4 18.59l7.72-7.72 1.47 1.35L5.41 20z\"/>\n",
              "  </svg>\n",
              "      </button>\n",
              "      \n",
              "  <style>\n",
              "    .colab-df-container {\n",
              "      display:flex;\n",
              "      flex-wrap:wrap;\n",
              "      gap: 12px;\n",
              "    }\n",
              "\n",
              "    .colab-df-convert {\n",
              "      background-color: #E8F0FE;\n",
              "      border: none;\n",
              "      border-radius: 50%;\n",
              "      cursor: pointer;\n",
              "      display: none;\n",
              "      fill: #1967D2;\n",
              "      height: 32px;\n",
              "      padding: 0 0 0 0;\n",
              "      width: 32px;\n",
              "    }\n",
              "\n",
              "    .colab-df-convert:hover {\n",
              "      background-color: #E2EBFA;\n",
              "      box-shadow: 0px 1px 2px rgba(60, 64, 67, 0.3), 0px 1px 3px 1px rgba(60, 64, 67, 0.15);\n",
              "      fill: #174EA6;\n",
              "    }\n",
              "\n",
              "    [theme=dark] .colab-df-convert {\n",
              "      background-color: #3B4455;\n",
              "      fill: #D2E3FC;\n",
              "    }\n",
              "\n",
              "    [theme=dark] .colab-df-convert:hover {\n",
              "      background-color: #434B5C;\n",
              "      box-shadow: 0px 1px 3px 1px rgba(0, 0, 0, 0.15);\n",
              "      filter: drop-shadow(0px 1px 2px rgba(0, 0, 0, 0.3));\n",
              "      fill: #FFFFFF;\n",
              "    }\n",
              "  </style>\n",
              "\n",
              "      <script>\n",
              "        const buttonEl =\n",
              "          document.querySelector('#df-6699bc58-a66e-48dc-b36b-0474153a88a3 button.colab-df-convert');\n",
              "        buttonEl.style.display =\n",
              "          google.colab.kernel.accessAllowed ? 'block' : 'none';\n",
              "\n",
              "        async function convertToInteractive(key) {\n",
              "          const element = document.querySelector('#df-6699bc58-a66e-48dc-b36b-0474153a88a3');\n",
              "          const dataTable =\n",
              "            await google.colab.kernel.invokeFunction('convertToInteractive',\n",
              "                                                     [key], {});\n",
              "          if (!dataTable) return;\n",
              "\n",
              "          const docLinkHtml = 'Like what you see? Visit the ' +\n",
              "            '<a target=\"_blank\" href=https://colab.research.google.com/notebooks/data_table.ipynb>data table notebook</a>'\n",
              "            + ' to learn more about interactive tables.';\n",
              "          element.innerHTML = '';\n",
              "          dataTable['output_type'] = 'display_data';\n",
              "          await google.colab.output.renderOutput(dataTable, element);\n",
              "          const docLink = document.createElement('div');\n",
              "          docLink.innerHTML = docLinkHtml;\n",
              "          element.appendChild(docLink);\n",
              "        }\n",
              "      </script>\n",
              "    </div>\n",
              "  </div>\n",
              "  "
            ]
          },
          "metadata": {},
          "execution_count": 2
        }
      ],
      "source": [
        "# Importación de librerías\n",
        "%matplotlib inline\n",
        "import pandas as pd\n",
        "\n",
        "import numpy as np\n",
        "import matplotlib.pyplot as plt\n",
        "\n",
        "# Lectura de la información de archivo .csv\n",
        "data = pd.read_csv('https://raw.githubusercontent.com/albahnsen/MIAD_ML_and_NLP/main/datasets/dataTrain_carListings.zip')\n",
        "\n",
        "# Preprocesamiento de datos para el taller\n",
        "data = data.loc[data['Model'].str.contains('Camry')].drop(['Make', 'State'], axis=1)\n",
        "data = data.join(pd.get_dummies(data['Model'], prefix='M'))\n",
        "data = data.drop(['Model'], axis=1)\n",
        "\n",
        "# Visualización dataset\n",
        "data.head()"
      ]
    },
    {
      "cell_type": "code",
      "execution_count": 3,
      "metadata": {
        "id": "3dWz6dM0556b"
      },
      "outputs": [],
      "source": [
        "# Separación de variables predictoras (X) y variable de interés (y)\n",
        "y = data['Price']\n",
        "X = data.drop(['Price'], axis=1)"
      ]
    },
    {
      "cell_type": "code",
      "execution_count": 4,
      "metadata": {
        "id": "Yh_yOG8P556c"
      },
      "outputs": [],
      "source": [
        "# Separación de datos en set de entrenamiento y test\n",
        "from sklearn.model_selection import train_test_split\n",
        "X_train, X_test, y_train, y_test = train_test_split(X, y, test_size=0.33, random_state=42)"
      ]
    },
    {
      "cell_type": "markdown",
      "metadata": {
        "id": "v-kNOSLa556d"
      },
      "source": [
        "### Punto 1 - Árbol de decisión manual\n",
        "\n",
        "En la celda 1 creen un árbol de decisión **manualmente**  que considere los set de entrenamiento y test definidos anteriormente y presenten el RMSE y MAE del modelo en el set de test."
      ]
    },
    {
      "cell_type": "code",
      "execution_count": 5,
      "metadata": {
        "colab": {
          "base_uri": "https://localhost:8080/"
        },
        "id": "p3l-m3di556d",
        "outputId": "c83c6cd9-a607-4f3d-d7bd-bb5e91442bc0"
      },
      "outputs": [
        {
          "output_type": "stream",
          "name": "stdout",
          "text": [
            "RMSE:  15113.767253661932\n",
            "MAE:  14598.966224018475\n"
          ]
        }
      ],
      "source": [
        "# Definición de parámetros y criterios de parada\n",
        "max_depth = None\n",
        "num_pct = 10\n",
        "max_features = None\n",
        "min_gain=0.001\n",
        "\n",
        "def calcular_rmse(y_true, y_pred):\n",
        "    \"\"\"\n",
        "    Calcula la raíz del error cuadrático medio (RMSE) entre los valores verdaderos y predichos.\n",
        "\n",
        "    Parameters:\n",
        "    y_true (list, array): Valores verdaderos.\n",
        "    y_pred (list, array): Valores predichos.\n",
        "\n",
        "    Returns:\n",
        "    float: La raíz del error cuadrático medio (RMSE).\n",
        "    \"\"\"\n",
        "    from sklearn.metrics import mean_squared_error\n",
        "    import numpy as np\n",
        "\n",
        "    return np.sqrt(mean_squared_error(y_true, y_pred))\n",
        "\n",
        "def calcular_mae(y_true, y_pred):\n",
        "    \"\"\"\n",
        "    Calcula el error absoluto medio (MAE) entre los valores verdaderos y predichos.\n",
        "\n",
        "    Parameters:\n",
        "    y_true (list, array): Valores verdaderos.\n",
        "    y_pred (list, array): Valores predichos.\n",
        "\n",
        "    Returns:\n",
        "    float: El error absoluto medio (MAE).\n",
        "    \"\"\"\n",
        "    from sklearn.metrics import mean_absolute_error\n",
        "\n",
        "    return mean_absolute_error(y_true, y_pred)\n",
        "\n",
        "\n",
        "# Definición de la función que calcula el gini index\n",
        "def gini(y):\n",
        "    if y.shape[0] == 0:\n",
        "        return 0\n",
        "    else:\n",
        "        return 1 - (y.mean()**2 + (1 - y.mean())**2)\n",
        "    \n",
        "# Definición de la función gini_imputiry para calular la ganancia de una variable predictora j dado el punto de corte k\n",
        "def gini_impurity(X_col, y, split):\n",
        "    \n",
        "    filter_l = X_col < split\n",
        "    y_l = y.loc[filter_l]\n",
        "    y_r = y.loc[~filter_l]\n",
        "    \n",
        "    n_l = y_l.shape[0]\n",
        "    n_r = y_r.shape[0]\n",
        "    \n",
        "    gini_y = gini(y)\n",
        "    gini_l = gini(y_l)\n",
        "    gini_r = gini(y_r)\n",
        "    \n",
        "    gini_impurity_ = gini_y - (n_l / (n_l + n_r) * gini_l + n_r / (n_l + n_r) * gini_r)\n",
        "    \n",
        "    return gini_impurity_\n",
        "\n",
        "# Definición de la función best_split para calcular cuál es la mejor variable y punto de cortepara hacer la bifurcación del árbol\n",
        "def best_split(X, y, num_pct=10):\n",
        "    \n",
        "    features = range(X.shape[1])\n",
        "    \n",
        "    best_split = [0, 0, 0]  # j, split, gain\n",
        "    \n",
        "    # Para todas las varibles \n",
        "    for j in features:\n",
        "        \n",
        "        splits = np.percentile(X.iloc[:, j], np.arange(0, 100, 100.0 / (num_pct+1)).tolist())\n",
        "        splits = np.unique(splits)[1:]\n",
        "        \n",
        "        # Para cada partición\n",
        "        for split in splits:\n",
        "            gain = gini_impurity(X.iloc[:, j], y, split)\n",
        "                        \n",
        "            if gain > best_split[2]:\n",
        "                best_split = [j, split, gain]\n",
        "    \n",
        "    return best_split\n",
        "\n",
        "# Definición de la función tree_grow para hacer un crecimiento recursivo del árbol\n",
        "def tree_grow(X, y, level=0, min_gain=0.001, max_depth=None, num_pct=10):\n",
        "    \n",
        "    # Si solo es una observación\n",
        "    if X.shape[0] == 1:\n",
        "        tree = dict(y_pred=y.iloc[:1].values[0], y_prob=0.5, level=level, split=-1, n_samples=1, gain=0)\n",
        "        return tree\n",
        "    \n",
        "    # Calcular la mejor división\n",
        "    j, split, gain = best_split(X, y, num_pct)\n",
        "    \n",
        "    # Guardar el árbol y estimar la predicción\n",
        "    y_pred = int(y.mean() >= 0.5) \n",
        "    y_prob = (y.sum() + 1.0) / (y.shape[0] + 2.0)  # Corrección Laplace \n",
        "    \n",
        "    tree = dict(y_pred=y_pred, y_prob=y_prob, level=level, split=-1, n_samples=X.shape[0], gain=gain)\n",
        "    # Revisar el criterio de parada \n",
        "    if gain < min_gain:\n",
        "        return tree\n",
        "    if max_depth is not None:\n",
        "        if level >= max_depth:\n",
        "            return tree   \n",
        "    \n",
        "    # Continuar creando la partición\n",
        "    filter_l = X.iloc[:, j] < split\n",
        "    X_l, y_l = X.loc[filter_l], y.loc[filter_l]\n",
        "    X_r, y_r = X.loc[~filter_l], y.loc[~filter_l]\n",
        "    tree['split'] = [j, split]\n",
        "\n",
        "    # Siguiente iteración para cada partición\n",
        "    \n",
        "    tree['sl'] = tree_grow(X_l, y_l, level + 1, min_gain=min_gain, max_depth=max_depth, num_pct=num_pct)\n",
        "    tree['sr'] = tree_grow(X_r, y_r, level + 1, min_gain=min_gain, max_depth=max_depth, num_pct=num_pct)\n",
        "    \n",
        "    return tree\n",
        "\n",
        "# Aplicación de la función tree_grow\n",
        "tree_grow(X, y, level=0, min_gain=0.001, max_depth=1, num_pct=10)\n",
        "\n",
        "def tree_predict(X, tree, proba=False):\n",
        "    \n",
        "    predicted = np.ones(X.shape[0])\n",
        "\n",
        "    # Revisar si es el nodo final\n",
        "    if tree['split'] == -1:\n",
        "        if not proba:\n",
        "            predicted = predicted * tree['y_pred']\n",
        "        else:\n",
        "            predicted = predicted * tree['y_prob']\n",
        "            \n",
        "    else:\n",
        "        \n",
        "        j, split = tree['split']\n",
        "        filter_l = (X.iloc[:, j] < split)\n",
        "        X_l = X.loc[filter_l]\n",
        "        X_r = X.loc[~filter_l]\n",
        "\n",
        "        if X_l.shape[0] == 0:  # Si el nodo izquierdo está vacio solo continua con el derecho \n",
        "            predicted[~filter_l] = tree_predict(X_r, tree['sr'], proba)\n",
        "        elif X_r.shape[0] == 0:  #  Si el nodo derecho está vacio solo continua con el izquierdo\n",
        "            predicted[filter_l] = tree_predict(X_l, tree['sl'], proba)\n",
        "        else:\n",
        "            predicted[filter_l] = tree_predict(X_l, tree['sl'], proba)\n",
        "            predicted[~filter_l] = tree_predict(X_r, tree['sr'], proba)\n",
        "\n",
        "    return predicted\n",
        "\n",
        "# Aplicación de la función tree_grow\n",
        "tree = tree_grow(X_train, y_train, level=0, min_gain=0.001, max_depth=3, num_pct=10)\n",
        "\n",
        "# Ejecución de función tree_predict\n",
        "arbol_decision = tree_predict(X_train, tree)\n",
        "\n",
        "# Realizar predicciones sobre el set de test\n",
        "predictions = []\n",
        "for example in X_test.values:\n",
        "    prediction = tree_predict(pd.DataFrame(example.reshape(1,-1)), tree)\n",
        "    predictions.append(prediction[0])\n",
        "\n",
        "# Calcular el error en el set de test\n",
        "dt_rmse = calcular_rmse(y_test.tolist(), predictions)\n",
        "dt_mae = calcular_mae(y_test.tolist(), predictions)\n",
        "\n",
        "print(\"RMSE: \", dt_rmse)\n",
        "print(\"MAE: \", dt_mae)"
      ]
    },
    {
      "cell_type": "markdown",
      "metadata": {
        "id": "3HWPfgPw556h"
      },
      "source": [
        "### Punto 2 - Bagging manual\n",
        "\n",
        "En la celda 2 creen un modelo bagging **manualmente** con 10 árboles de clasificación y comenten sobre el desempeño del modelo."
      ]
    },
    {
      "cell_type": "code",
      "execution_count": 10,
      "metadata": {
        "colab": {
          "base_uri": "https://localhost:8080/"
        },
        "id": "GKc0cjAe556i",
        "outputId": "3d353753-5346-4731-d499-31eb8f539aeb"
      },
      "outputs": [
        {
          "output_type": "execute_result",
          "data": {
            "text/plain": [
              "[array([3582, 3454, 1346, ...,  826,  801, 5657]),\n",
              " array([6962, 3408, 2553, ..., 6611,  877, 6412]),\n",
              " array([1917, 3131,  384, ..., 2876, 6449, 6557]),\n",
              " array([3849, 4565, 6820, ..., 6835, 4643,  639]),\n",
              " array([2468, 3608, 1367, ..., 3108, 2961, 4357]),\n",
              " array([3142, 1537, 5966, ..., 3224, 6922, 3396]),\n",
              " array([6588, 3753, 1786, ..., 2131, 4627, 5672]),\n",
              " array([1289, 3776,  981, ..., 1891, 6034, 6165]),\n",
              " array([6079, 3819, 6976, ..., 6478, 2225, 5072]),\n",
              " array([3952, 3276,  896, ..., 4589, 1964,  893])]"
            ]
          },
          "metadata": {},
          "execution_count": 10
        }
      ],
      "source": [
        "# Celda 2\n",
        "\n",
        "# Se crea un arreglo de 1 a 20\n",
        "np.random.seed(1)\n",
        "\n",
        "# Creación de 10 muestras de bootstrap \n",
        "np.random.seed(123)\n",
        "\n",
        "n_samples = X_train.shape[0]\n",
        "n_B = 10\n",
        "\n",
        "samples = [np.random.choice(a=n_samples, size=n_samples, replace=True) for _ in range(1, n_B +1 )]\n",
        "samples"
      ]
    },
    {
      "cell_type": "code",
      "execution_count": 11,
      "metadata": {
        "colab": {
          "base_uri": "https://localhost:8080/",
          "height": 423
        },
        "id": "3yaF-Vm3556j",
        "outputId": "d5c8fedb-9c3f-4a70-ce4f-24f30bd1fb14"
      },
      "outputs": [
        {
          "output_type": "execute_result",
          "data": {
            "text/plain": [
              "              0        1        2        3        4        5        6  \\\n",
              "257343  14980.0  13990.0  14980.0  12488.0  12488.0  12489.0  12488.0   \n",
              "326011   6492.0   5995.0   6492.0   6492.0   6492.0   6492.0   6999.0   \n",
              "242354  16491.0  16491.0  16491.0  16491.0  16491.0  16491.0  16491.0   \n",
              "266376  21990.0  21990.0  21990.0  15988.0  15988.0  15900.0  15900.0   \n",
              "396954  15988.0  15988.0  15988.0  15988.0  15988.0  15988.0  15988.0   \n",
              "...         ...      ...      ...      ...      ...      ...      ...   \n",
              "144298  13836.0  15121.0  13836.0  17561.0  17561.0  16468.0  16468.0   \n",
              "364521  15999.0  15999.0  14851.0  14851.0  15999.0  15999.0  16900.0   \n",
              "120072  23533.0  23533.0  23533.0  17700.0  17700.0  17700.0  17700.0   \n",
              "99878   12989.0  12989.0  12989.0  12989.0  12989.0  12989.0  12989.0   \n",
              "387162  10991.0  10751.0  12922.0  11995.0  11984.0  10991.0  12922.0   \n",
              "\n",
              "              7        8        9  \n",
              "257343  11995.0  12488.0  11995.0  \n",
              "326011   6492.0   6492.0   6492.0  \n",
              "242354  16491.0  16491.0  16491.0  \n",
              "266376  15900.0  15900.0  15900.0  \n",
              "396954  15988.0  15988.0  15988.0  \n",
              "...         ...      ...      ...  \n",
              "144298  16468.0  14999.0  16468.0  \n",
              "364521  14851.0  14851.0  14851.0  \n",
              "120072  17700.0  17700.0  17700.0  \n",
              "99878   12989.0  12989.0  12989.0  \n",
              "387162  12800.0  11995.0  11984.0  \n",
              "\n",
              "[3464 rows x 10 columns]"
            ],
            "text/html": [
              "\n",
              "  <div id=\"df-fd578d1a-4b54-4c85-a4f7-4f042e23618c\">\n",
              "    <div class=\"colab-df-container\">\n",
              "      <div>\n",
              "<style scoped>\n",
              "    .dataframe tbody tr th:only-of-type {\n",
              "        vertical-align: middle;\n",
              "    }\n",
              "\n",
              "    .dataframe tbody tr th {\n",
              "        vertical-align: top;\n",
              "    }\n",
              "\n",
              "    .dataframe thead tr th {\n",
              "        text-align: left;\n",
              "    }\n",
              "</style>\n",
              "<table border=\"1\" class=\"dataframe\">\n",
              "  <thead>\n",
              "    <tr>\n",
              "      <th></th>\n",
              "      <th>0</th>\n",
              "      <th>1</th>\n",
              "      <th>2</th>\n",
              "      <th>3</th>\n",
              "      <th>4</th>\n",
              "      <th>5</th>\n",
              "      <th>6</th>\n",
              "      <th>7</th>\n",
              "      <th>8</th>\n",
              "      <th>9</th>\n",
              "    </tr>\n",
              "  </thead>\n",
              "  <tbody>\n",
              "    <tr>\n",
              "      <th>257343</th>\n",
              "      <td>14980.0</td>\n",
              "      <td>13990.0</td>\n",
              "      <td>14980.0</td>\n",
              "      <td>12488.0</td>\n",
              "      <td>12488.0</td>\n",
              "      <td>12489.0</td>\n",
              "      <td>12488.0</td>\n",
              "      <td>11995.0</td>\n",
              "      <td>12488.0</td>\n",
              "      <td>11995.0</td>\n",
              "    </tr>\n",
              "    <tr>\n",
              "      <th>326011</th>\n",
              "      <td>6492.0</td>\n",
              "      <td>5995.0</td>\n",
              "      <td>6492.0</td>\n",
              "      <td>6492.0</td>\n",
              "      <td>6492.0</td>\n",
              "      <td>6492.0</td>\n",
              "      <td>6999.0</td>\n",
              "      <td>6492.0</td>\n",
              "      <td>6492.0</td>\n",
              "      <td>6492.0</td>\n",
              "    </tr>\n",
              "    <tr>\n",
              "      <th>242354</th>\n",
              "      <td>16491.0</td>\n",
              "      <td>16491.0</td>\n",
              "      <td>16491.0</td>\n",
              "      <td>16491.0</td>\n",
              "      <td>16491.0</td>\n",
              "      <td>16491.0</td>\n",
              "      <td>16491.0</td>\n",
              "      <td>16491.0</td>\n",
              "      <td>16491.0</td>\n",
              "      <td>16491.0</td>\n",
              "    </tr>\n",
              "    <tr>\n",
              "      <th>266376</th>\n",
              "      <td>21990.0</td>\n",
              "      <td>21990.0</td>\n",
              "      <td>21990.0</td>\n",
              "      <td>15988.0</td>\n",
              "      <td>15988.0</td>\n",
              "      <td>15900.0</td>\n",
              "      <td>15900.0</td>\n",
              "      <td>15900.0</td>\n",
              "      <td>15900.0</td>\n",
              "      <td>15900.0</td>\n",
              "    </tr>\n",
              "    <tr>\n",
              "      <th>396954</th>\n",
              "      <td>15988.0</td>\n",
              "      <td>15988.0</td>\n",
              "      <td>15988.0</td>\n",
              "      <td>15988.0</td>\n",
              "      <td>15988.0</td>\n",
              "      <td>15988.0</td>\n",
              "      <td>15988.0</td>\n",
              "      <td>15988.0</td>\n",
              "      <td>15988.0</td>\n",
              "      <td>15988.0</td>\n",
              "    </tr>\n",
              "    <tr>\n",
              "      <th>...</th>\n",
              "      <td>...</td>\n",
              "      <td>...</td>\n",
              "      <td>...</td>\n",
              "      <td>...</td>\n",
              "      <td>...</td>\n",
              "      <td>...</td>\n",
              "      <td>...</td>\n",
              "      <td>...</td>\n",
              "      <td>...</td>\n",
              "      <td>...</td>\n",
              "    </tr>\n",
              "    <tr>\n",
              "      <th>144298</th>\n",
              "      <td>13836.0</td>\n",
              "      <td>15121.0</td>\n",
              "      <td>13836.0</td>\n",
              "      <td>17561.0</td>\n",
              "      <td>17561.0</td>\n",
              "      <td>16468.0</td>\n",
              "      <td>16468.0</td>\n",
              "      <td>16468.0</td>\n",
              "      <td>14999.0</td>\n",
              "      <td>16468.0</td>\n",
              "    </tr>\n",
              "    <tr>\n",
              "      <th>364521</th>\n",
              "      <td>15999.0</td>\n",
              "      <td>15999.0</td>\n",
              "      <td>14851.0</td>\n",
              "      <td>14851.0</td>\n",
              "      <td>15999.0</td>\n",
              "      <td>15999.0</td>\n",
              "      <td>16900.0</td>\n",
              "      <td>14851.0</td>\n",
              "      <td>14851.0</td>\n",
              "      <td>14851.0</td>\n",
              "    </tr>\n",
              "    <tr>\n",
              "      <th>120072</th>\n",
              "      <td>23533.0</td>\n",
              "      <td>23533.0</td>\n",
              "      <td>23533.0</td>\n",
              "      <td>17700.0</td>\n",
              "      <td>17700.0</td>\n",
              "      <td>17700.0</td>\n",
              "      <td>17700.0</td>\n",
              "      <td>17700.0</td>\n",
              "      <td>17700.0</td>\n",
              "      <td>17700.0</td>\n",
              "    </tr>\n",
              "    <tr>\n",
              "      <th>99878</th>\n",
              "      <td>12989.0</td>\n",
              "      <td>12989.0</td>\n",
              "      <td>12989.0</td>\n",
              "      <td>12989.0</td>\n",
              "      <td>12989.0</td>\n",
              "      <td>12989.0</td>\n",
              "      <td>12989.0</td>\n",
              "      <td>12989.0</td>\n",
              "      <td>12989.0</td>\n",
              "      <td>12989.0</td>\n",
              "    </tr>\n",
              "    <tr>\n",
              "      <th>387162</th>\n",
              "      <td>10991.0</td>\n",
              "      <td>10751.0</td>\n",
              "      <td>12922.0</td>\n",
              "      <td>11995.0</td>\n",
              "      <td>11984.0</td>\n",
              "      <td>10991.0</td>\n",
              "      <td>12922.0</td>\n",
              "      <td>12800.0</td>\n",
              "      <td>11995.0</td>\n",
              "      <td>11984.0</td>\n",
              "    </tr>\n",
              "  </tbody>\n",
              "</table>\n",
              "<p>3464 rows × 10 columns</p>\n",
              "</div>\n",
              "      <button class=\"colab-df-convert\" onclick=\"convertToInteractive('df-fd578d1a-4b54-4c85-a4f7-4f042e23618c')\"\n",
              "              title=\"Convert this dataframe to an interactive table.\"\n",
              "              style=\"display:none;\">\n",
              "        \n",
              "  <svg xmlns=\"http://www.w3.org/2000/svg\" height=\"24px\"viewBox=\"0 0 24 24\"\n",
              "       width=\"24px\">\n",
              "    <path d=\"M0 0h24v24H0V0z\" fill=\"none\"/>\n",
              "    <path d=\"M18.56 5.44l.94 2.06.94-2.06 2.06-.94-2.06-.94-.94-2.06-.94 2.06-2.06.94zm-11 1L8.5 8.5l.94-2.06 2.06-.94-2.06-.94L8.5 2.5l-.94 2.06-2.06.94zm10 10l.94 2.06.94-2.06 2.06-.94-2.06-.94-.94-2.06-.94 2.06-2.06.94z\"/><path d=\"M17.41 7.96l-1.37-1.37c-.4-.4-.92-.59-1.43-.59-.52 0-1.04.2-1.43.59L10.3 9.45l-7.72 7.72c-.78.78-.78 2.05 0 2.83L4 21.41c.39.39.9.59 1.41.59.51 0 1.02-.2 1.41-.59l7.78-7.78 2.81-2.81c.8-.78.8-2.07 0-2.86zM5.41 20L4 18.59l7.72-7.72 1.47 1.35L5.41 20z\"/>\n",
              "  </svg>\n",
              "      </button>\n",
              "      \n",
              "  <style>\n",
              "    .colab-df-container {\n",
              "      display:flex;\n",
              "      flex-wrap:wrap;\n",
              "      gap: 12px;\n",
              "    }\n",
              "\n",
              "    .colab-df-convert {\n",
              "      background-color: #E8F0FE;\n",
              "      border: none;\n",
              "      border-radius: 50%;\n",
              "      cursor: pointer;\n",
              "      display: none;\n",
              "      fill: #1967D2;\n",
              "      height: 32px;\n",
              "      padding: 0 0 0 0;\n",
              "      width: 32px;\n",
              "    }\n",
              "\n",
              "    .colab-df-convert:hover {\n",
              "      background-color: #E2EBFA;\n",
              "      box-shadow: 0px 1px 2px rgba(60, 64, 67, 0.3), 0px 1px 3px 1px rgba(60, 64, 67, 0.15);\n",
              "      fill: #174EA6;\n",
              "    }\n",
              "\n",
              "    [theme=dark] .colab-df-convert {\n",
              "      background-color: #3B4455;\n",
              "      fill: #D2E3FC;\n",
              "    }\n",
              "\n",
              "    [theme=dark] .colab-df-convert:hover {\n",
              "      background-color: #434B5C;\n",
              "      box-shadow: 0px 1px 3px 1px rgba(0, 0, 0, 0.15);\n",
              "      filter: drop-shadow(0px 1px 2px rgba(0, 0, 0, 0.3));\n",
              "      fill: #FFFFFF;\n",
              "    }\n",
              "  </style>\n",
              "\n",
              "      <script>\n",
              "        const buttonEl =\n",
              "          document.querySelector('#df-fd578d1a-4b54-4c85-a4f7-4f042e23618c button.colab-df-convert');\n",
              "        buttonEl.style.display =\n",
              "          google.colab.kernel.accessAllowed ? 'block' : 'none';\n",
              "\n",
              "        async function convertToInteractive(key) {\n",
              "          const element = document.querySelector('#df-fd578d1a-4b54-4c85-a4f7-4f042e23618c');\n",
              "          const dataTable =\n",
              "            await google.colab.kernel.invokeFunction('convertToInteractive',\n",
              "                                                     [key], {});\n",
              "          if (!dataTable) return;\n",
              "\n",
              "          const docLinkHtml = 'Like what you see? Visit the ' +\n",
              "            '<a target=\"_blank\" href=https://colab.research.google.com/notebooks/data_table.ipynb>data table notebook</a>'\n",
              "            + ' to learn more about interactive tables.';\n",
              "          element.innerHTML = '';\n",
              "          dataTable['output_type'] = 'display_data';\n",
              "          await google.colab.output.renderOutput(dataTable, element);\n",
              "          const docLink = document.createElement('div');\n",
              "          docLink.innerHTML = docLinkHtml;\n",
              "          element.appendChild(docLink);\n",
              "        }\n",
              "      </script>\n",
              "    </div>\n",
              "  </div>\n",
              "  "
            ]
          },
          "metadata": {},
          "execution_count": 11
        }
      ],
      "source": [
        "# Construcción un árbol de decisión para cada muestra boostrap\n",
        "\n",
        "from sklearn.tree import DecisionTreeRegressor\n",
        "\n",
        "# Definición del modelo usando DecisionTreeRegressor de sklearn\n",
        "treereg = DecisionTreeRegressor(max_depth=None, random_state=123)\n",
        "\n",
        "# DataFrame para guardar las predicciones de cada árbol\n",
        "y_pred = pd.DataFrame(index=X_test.index, columns=[list(range(n_B))])\n",
        "\n",
        "# Entrenamiento de un árbol sobre cada muestra boostrap y predicción sobre los datos de test\n",
        "for i, sample in enumerate(samples):\n",
        "    X_train = X_train.iloc[sample,:]\n",
        "    y_train = y_train.iloc[sample]\n",
        "    treereg.fit(X_train, y_train)\n",
        "    y_pred.iloc[:,i] = treereg.predict(X_test)\n",
        "    \n",
        "y_pred"
      ]
    },
    {
      "cell_type": "code",
      "execution_count": 12,
      "metadata": {
        "colab": {
          "base_uri": "https://localhost:8080/"
        },
        "id": "OXwJA-EB556j",
        "outputId": "bb3023fc-d00e-4660-adb8-456fdca21dcd"
      },
      "outputs": [
        {
          "output_type": "stream",
          "name": "stdout",
          "text": [
            "Árbol  0 tiene un error:  2141.613353645869\n",
            "Árbol  1 tiene un error:  2094.921651442501\n",
            "Árbol  2 tiene un error:  2143.588943820465\n",
            "Árbol  3 tiene un error:  2091.5765590558344\n",
            "Árbol  4 tiene un error:  2101.269034680839\n",
            "Árbol  5 tiene un error:  2166.1579741770674\n",
            "Árbol  6 tiene un error:  2167.965320861841\n",
            "Árbol  7 tiene un error:  2160.523932246401\n",
            "Árbol  8 tiene un error:  2160.7735197631982\n",
            "Árbol  9 tiene un error:  2133.42356958019\n"
          ]
        }
      ],
      "source": [
        "# Desempeño de cada árbol\n",
        "import sklearn\n",
        "import numpy as np\n",
        "\n",
        "from sklearn.metrics import mean_absolute_error\n",
        "from sklearn.metrics import mean_squared_error\n",
        "from sklearn.ensemble import BaggingRegressor\n",
        "from sklearn.tree import DecisionTreeRegressor\n",
        "for i in range(n_B):\n",
        "    print('Árbol ', i, 'tiene un error: ', np.sqrt(mean_squared_error(y_pred.iloc[:,i], y_test)))"
      ]
    },
    {
      "cell_type": "code",
      "execution_count": null,
      "metadata": {
        "id": "0967bKFq556k",
        "outputId": "8775f5e8-b45a-4aaa-8ec7-40a7504bfe77"
      },
      "outputs": [
        {
          "data": {
            "text/plain": [
              "257343    13038.1\n",
              "326011     6493.0\n",
              "242354    16491.0\n",
              "266376    17744.6\n",
              "396954    15988.0\n",
              "           ...   \n",
              "144298    15878.6\n",
              "364521    15515.1\n",
              "120072    19449.9\n",
              "99878     12989.0\n",
              "387162    11933.5\n",
              "Length: 3464, dtype: float64"
            ]
          },
          "execution_count": 9,
          "metadata": {},
          "output_type": "execute_result"
        }
      ],
      "source": [
        "# Predicciones promedio para cada obserbación del set de test\n",
        "y_pred.mean(axis=1)"
      ]
    },
    {
      "cell_type": "code",
      "execution_count": 13,
      "metadata": {
        "id": "GuJV1AQs556l"
      },
      "outputs": [],
      "source": [
        "# Error al promediar las predicciones de todos los árboles\n",
        "bag_mse = np.sqrt(mean_squared_error(y_test, y_pred.mean(axis=1)))"
      ]
    },
    {
      "cell_type": "markdown",
      "metadata": {
        "id": "67mf_NJ3556l"
      },
      "source": [
        "El modelo tiene un MSE de 1862.89, donde se evalúan 10 árboles de clasificación con muestras boostrap\n"
      ]
    },
    {
      "cell_type": "markdown",
      "metadata": {
        "id": "LJ4MTLJh556m"
      },
      "source": [
        "### Punto 3 - Bagging con librería\n",
        "\n",
        "En la celda 3, con la librería sklearn, entrenen un modelo bagging con 10 árboles de clasificación y el parámetro `max_features` igual a `log(n_features)` y comenten sobre el desempeño del modelo."
      ]
    },
    {
      "cell_type": "code",
      "execution_count": 39,
      "metadata": {
        "colab": {
          "base_uri": "https://localhost:8080/"
        },
        "id": "b9wVYpYW556m",
        "outputId": "e5b9f249-7a05-4a53-e4c4-cb982e93fe4b"
      },
      "outputs": [
        {
          "output_type": "stream",
          "name": "stdout",
          "text": [
            "MSE: 2731388.040553463\n",
            "Mean MAE: 1232.8099889223142\n"
          ]
        }
      ],
      "source": [
        "# Celda 3\n",
        "\n",
        "n_features=2\n",
        "base_model = DecisionTreeRegressor(random_state=42,max_depth=5)\n",
        "\n",
        "bagging_model = BaggingRegressor(base_estimator=base_model,n_estimators=10,max_features=np.log(n_features), random_state=42)\n",
        "bagging_model.fit(X_train, y_train)\n",
        "\n",
        "y_pred=bagging_model.predict(X_test)\n",
        "\n",
        "#Desempeño del modelo\n",
        "mae_bagging = mean_absolute_error(y_pred, y_test)\n",
        "mse_bagging =  mean_squared_error(y_test, y_pred)\n",
        "\n",
        "print('MSE:', mse_bagging)\n",
        "print('Mean MAE:', mae_bagging)\n"
      ]
    },
    {
      "cell_type": "markdown",
      "source": [
        "En cuanto al desempeño, se puede concluir que el modelo de bagging obtuvo un MSE de 2731388.0 y un Mean MAE de 1232.8 parece tener un rendimiento aceptable,\n",
        "\n",
        "El MSE indica que, en promedio, las predicciones del modelo tienen un error cuadrático de aproximadamente 2731388. Esto significa que, en promedio, las predicciones del modelo están a una distancia de raíz cuadrada de MSE = 1653.30 de los valores reales. Como regla general, un MSE bajo indica un mejor ajuste del modelo a los datos y, por lo tanto, mejores predicciones.\n",
        "\n",
        "El Mean MAE indica que, en promedio, las predicciones del modelo tienen un error absoluto de aproximadamente 1232.81. Esto significa que, en promedio, las predicciones del modelo están a una distancia de MAE = 1232.81 de los valores reales."
      ],
      "metadata": {
        "id": "mSi_bw35ExqP"
      }
    },
    {
      "cell_type": "markdown",
      "metadata": {
        "id": "BSmg5D86556n"
      },
      "source": [
        "### Punto 4 - Random forest con librería\n",
        "\n",
        "En la celda 4, usando la librería sklearn entrenen un modelo de Randon Forest para clasificación  y comenten sobre el desempeño del modelo."
      ]
    },
    {
      "cell_type": "code",
      "execution_count": 15,
      "metadata": {
        "colab": {
          "base_uri": "https://localhost:8080/",
          "height": 74
        },
        "id": "CnqKfMkE556n",
        "outputId": "3b514668-6212-4217-ed9e-316095ad213e"
      },
      "outputs": [
        {
          "output_type": "execute_result",
          "data": {
            "text/plain": [
              "RandomForestRegressor()"
            ],
            "text/html": [
              "<style>#sk-container-id-1 {color: black;background-color: white;}#sk-container-id-1 pre{padding: 0;}#sk-container-id-1 div.sk-toggleable {background-color: white;}#sk-container-id-1 label.sk-toggleable__label {cursor: pointer;display: block;width: 100%;margin-bottom: 0;padding: 0.3em;box-sizing: border-box;text-align: center;}#sk-container-id-1 label.sk-toggleable__label-arrow:before {content: \"▸\";float: left;margin-right: 0.25em;color: #696969;}#sk-container-id-1 label.sk-toggleable__label-arrow:hover:before {color: black;}#sk-container-id-1 div.sk-estimator:hover label.sk-toggleable__label-arrow:before {color: black;}#sk-container-id-1 div.sk-toggleable__content {max-height: 0;max-width: 0;overflow: hidden;text-align: left;background-color: #f0f8ff;}#sk-container-id-1 div.sk-toggleable__content pre {margin: 0.2em;color: black;border-radius: 0.25em;background-color: #f0f8ff;}#sk-container-id-1 input.sk-toggleable__control:checked~div.sk-toggleable__content {max-height: 200px;max-width: 100%;overflow: auto;}#sk-container-id-1 input.sk-toggleable__control:checked~label.sk-toggleable__label-arrow:before {content: \"▾\";}#sk-container-id-1 div.sk-estimator input.sk-toggleable__control:checked~label.sk-toggleable__label {background-color: #d4ebff;}#sk-container-id-1 div.sk-label input.sk-toggleable__control:checked~label.sk-toggleable__label {background-color: #d4ebff;}#sk-container-id-1 input.sk-hidden--visually {border: 0;clip: rect(1px 1px 1px 1px);clip: rect(1px, 1px, 1px, 1px);height: 1px;margin: -1px;overflow: hidden;padding: 0;position: absolute;width: 1px;}#sk-container-id-1 div.sk-estimator {font-family: monospace;background-color: #f0f8ff;border: 1px dotted black;border-radius: 0.25em;box-sizing: border-box;margin-bottom: 0.5em;}#sk-container-id-1 div.sk-estimator:hover {background-color: #d4ebff;}#sk-container-id-1 div.sk-parallel-item::after {content: \"\";width: 100%;border-bottom: 1px solid gray;flex-grow: 1;}#sk-container-id-1 div.sk-label:hover label.sk-toggleable__label {background-color: #d4ebff;}#sk-container-id-1 div.sk-serial::before {content: \"\";position: absolute;border-left: 1px solid gray;box-sizing: border-box;top: 0;bottom: 0;left: 50%;z-index: 0;}#sk-container-id-1 div.sk-serial {display: flex;flex-direction: column;align-items: center;background-color: white;padding-right: 0.2em;padding-left: 0.2em;position: relative;}#sk-container-id-1 div.sk-item {position: relative;z-index: 1;}#sk-container-id-1 div.sk-parallel {display: flex;align-items: stretch;justify-content: center;background-color: white;position: relative;}#sk-container-id-1 div.sk-item::before, #sk-container-id-1 div.sk-parallel-item::before {content: \"\";position: absolute;border-left: 1px solid gray;box-sizing: border-box;top: 0;bottom: 0;left: 50%;z-index: -1;}#sk-container-id-1 div.sk-parallel-item {display: flex;flex-direction: column;z-index: 1;position: relative;background-color: white;}#sk-container-id-1 div.sk-parallel-item:first-child::after {align-self: flex-end;width: 50%;}#sk-container-id-1 div.sk-parallel-item:last-child::after {align-self: flex-start;width: 50%;}#sk-container-id-1 div.sk-parallel-item:only-child::after {width: 0;}#sk-container-id-1 div.sk-dashed-wrapped {border: 1px dashed gray;margin: 0 0.4em 0.5em 0.4em;box-sizing: border-box;padding-bottom: 0.4em;background-color: white;}#sk-container-id-1 div.sk-label label {font-family: monospace;font-weight: bold;display: inline-block;line-height: 1.2em;}#sk-container-id-1 div.sk-label-container {text-align: center;}#sk-container-id-1 div.sk-container {/* jupyter's `normalize.less` sets `[hidden] { display: none; }` but bootstrap.min.css set `[hidden] { display: none !important; }` so we also need the `!important` here to be able to override the default hidden behavior on the sphinx rendered scikit-learn.org. See: https://github.com/scikit-learn/scikit-learn/issues/21755 */display: inline-block !important;position: relative;}#sk-container-id-1 div.sk-text-repr-fallback {display: none;}</style><div id=\"sk-container-id-1\" class=\"sk-top-container\"><div class=\"sk-text-repr-fallback\"><pre>RandomForestRegressor()</pre><b>In a Jupyter environment, please rerun this cell to show the HTML representation or trust the notebook. <br />On GitHub, the HTML representation is unable to render, please try loading this page with nbviewer.org.</b></div><div class=\"sk-container\" hidden><div class=\"sk-item\"><div class=\"sk-estimator sk-toggleable\"><input class=\"sk-toggleable__control sk-hidden--visually\" id=\"sk-estimator-id-1\" type=\"checkbox\" checked><label for=\"sk-estimator-id-1\" class=\"sk-toggleable__label sk-toggleable__label-arrow\">RandomForestRegressor</label><div class=\"sk-toggleable__content\"><pre>RandomForestRegressor()</pre></div></div></div></div></div>"
            ]
          },
          "metadata": {},
          "execution_count": 15
        }
      ],
      "source": [
        "# Celda 4\n",
        "from sklearn.ensemble import RandomForestRegressor\n",
        "from sklearn.metrics import mean_squared_error\n",
        "import math as m\n",
        "rf = RandomForestRegressor()\n",
        "# Entrenamos el modelo\n",
        "rf.fit(X_train, y_train)"
      ]
    },
    {
      "cell_type": "code",
      "execution_count": 17,
      "metadata": {
        "colab": {
          "base_uri": "https://localhost:8080/"
        },
        "id": "5Qz3p7iR556o",
        "outputId": "b1771fcd-b0e8-4e08-bd23-fc761a83f01c"
      },
      "outputs": [
        {
          "output_type": "stream",
          "name": "stdout",
          "text": [
            "MSE: 3830705.503941707\n",
            "Como vemos, el modelo ejecutado en promedio tiene un error de $1957.0 en sus predicciones\n",
            "Mean MAE: 1466.5217077129553\n"
          ]
        }
      ],
      "source": [
        "# Hacemos la prediccion y obervamos los resultados \n",
        "y_pred = rf.predict(X_test)\n",
        "mse_rf = mean_squared_error(y_test, y_pred)\n",
        "print(\"MSE:\", mse_rf)\n",
        "print(f\"Como vemos, el modelo ejecutado en promedio tiene un error de ${round(m.sqrt(mse_rf),0)} en sus predicciones\")\n",
        "\n",
        "mae_rf = mean_absolute_error(y_pred, y_test)\n",
        "print('Mean MAE:', mae_rf)"
      ]
    },
    {
      "cell_type": "markdown",
      "source": [
        "El modelo de random forest obtuvo un MSE de 3830705.5 y un Mean MAE de 1466.5. En comparación con el modelo de bagging anterior, este modelo parece tener un MSE y un Mean MAE más altos, lo que indica que el modelo de bagging podría ser mejor para el problema en cuestión."
      ],
      "metadata": {
        "id": "Kb9bpJf2FrX-"
      }
    },
    {
      "cell_type": "markdown",
      "metadata": {
        "id": "PbU2ldY6556o"
      },
      "source": [
        "### Punto 5 - Calibración de parámetros Random forest\n",
        "\n",
        "En la celda 5, calibren los parámetros max_depth, max_features y n_estimators del modelo de Randon Forest para clasificación, comenten sobre el desempeño del modelo y describan cómo cada parámetro afecta el desempeño del modelo."
      ]
    },
    {
      "cell_type": "code",
      "execution_count": null,
      "metadata": {
        "id": "-yEUShOR556p",
        "outputId": "8fc0e6e8-9821-4a97-f7ee-81e0ffcea842"
      },
      "outputs": [
        {
          "name": "stdout",
          "output_type": "stream",
          "text": [
            "Score promedio con 10 estimadores: 0.796329\n",
            "Score promedio con 20 estimadores: 0.799568\n",
            "Score promedio con 30 estimadores: 0.801205\n",
            "Score promedio con 40 estimadores: 0.801851\n",
            "Score promedio con 50 estimadores: 0.801703\n",
            "Score promedio con 60 estimadores: 0.802111\n",
            "Score promedio con 70 estimadores: 0.802207\n",
            "Score promedio con 80 estimadores: 0.802282\n",
            "Score promedio con 90 estimadores: 0.802244\n",
            "Score promedio con 100 estimadores: 0.802207\n",
            "Score promedio con 110 estimadores: 0.802395\n",
            "Score promedio con 120 estimadores: 0.802344\n",
            "Score promedio con 130 estimadores: 0.802462\n",
            "Score promedio con 140 estimadores: 0.802640\n",
            "Score promedio con 150 estimadores: 0.802671\n",
            "Score promedio con 160 estimadores: 0.802629\n",
            "Score promedio con 170 estimadores: 0.802583\n",
            "Score promedio con 180 estimadores: 0.802581\n",
            "Score promedio con 190 estimadores: 0.802599\n",
            "Score promedio con 200 estimadores: 0.802603\n",
            "Score promedio con 210 estimadores: 0.802515\n",
            "Score promedio con 220 estimadores: 0.802520\n",
            "Score promedio con 230 estimadores: 0.802564\n",
            "Score promedio con 240 estimadores: 0.802612\n",
            "Score promedio con 250 estimadores: 0.802708\n",
            "Score promedio con 260 estimadores: 0.802748\n",
            "Score promedio con 270 estimadores: 0.802707\n",
            "Score promedio con 280 estimadores: 0.802727\n",
            "Score promedio con 290 estimadores: 0.802743\n",
            "Score promedio con 300 estimadores: 0.802762\n"
          ]
        }
      ],
      "source": [
        "# Celda 5\n",
        "# Primero vamos a calibrar el numero de estimadores\n",
        "# Creación de lista de valores para iterar sobre diferentes valores de n_estimators\n",
        "from sklearn.model_selection import cross_val_score\n",
        "estimator_range = range(10, 310, 10)\n",
        "\n",
        "# Definición de lista para almacenar la exactitud (accuracy) promedio para cada valor de n_estimators\n",
        "scores = []\n",
        "\n",
        "# Uso de un 5-fold cross-validation para cada valor de n_estimators\n",
        "scores = []\n",
        "for n in estimator_range:\n",
        "    rf = RandomForestRegressor(n_estimators=n, random_state=1, n_jobs=-1)\n",
        "    score = cross_val_score(rf, X, y, cv=5)\n",
        "    scores.append(np.mean(score))\n",
        "    print(\"Score promedio con %d estimadores: %f\" % (n, scores[-1]))"
      ]
    },
    {
      "cell_type": "code",
      "execution_count": null,
      "metadata": {
        "id": "S4pJ7ICi556p",
        "outputId": "83b3bcb7-0692-4fdf-f28c-fe426154e455"
      },
      "outputs": [
        {
          "data": {
            "text/plain": [
              "Text(0, 0.5, 'Score')"
            ]
          },
          "execution_count": 15,
          "metadata": {},
          "output_type": "execute_result"
        },
        {
          "data": {
            "image/png": "[encoded data removed]",
            "text/plain": [
              "<Figure size 432x288 with 1 Axes>"
            ]
          },
          "metadata": {
            "needs_background": "light"
          },
          "output_type": "display_data"
        }
      ],
      "source": [
        "# Gráfica del desempeño del modelo vs la cantidad de n_estimators\n",
        "plt.plot(estimator_range, scores)\n",
        "plt.xlabel('n_estimators')\n",
        "plt.ylabel('Score')"
      ]
    },
    {
      "cell_type": "markdown",
      "metadata": {
        "id": "VrEsdZJZ556p"
      },
      "source": [
        "Vemos que a aproximadamente a partir de los 150 estimadores, los resultados no cambian significativamente, por lo que este sera el numero de estimadores que vamos a usar"
      ]
    },
    {
      "cell_type": "code",
      "execution_count": 41,
      "metadata": {
        "colab": {
          "base_uri": "https://localhost:8080/"
        },
        "id": "O6p_UjgG556q",
        "outputId": "44742b39-1acb-4ced-c404-a731f17dc638"
      },
      "outputs": [
        {
          "output_type": "stream",
          "name": "stdout",
          "text": [
            "Score promedio con 1 estimadores: 0.796021\n",
            "Score promedio con 2 estimadores: 0.796002\n",
            "Score promedio con 3 estimadores: 0.796187\n",
            "Score promedio con 4 estimadores: 0.796593\n",
            "Score promedio con 5 estimadores: 0.797609\n",
            "Score promedio con 6 estimadores: 0.798521\n",
            "Score promedio con 7 estimadores: 0.800100\n",
            "Score promedio con 8 estimadores: 0.801447\n",
            "Score promedio con 9 estimadores: 0.802671\n"
          ]
        }
      ],
      "source": [
        "# Creación de lista de valores para iterar sobre diferentes valores de max_features\n",
        "feature_range = range(1, len(X.columns)+1)\n",
        "\n",
        "# Definición de lista para almacenar la exactitud (accuracy) promedio para cada valor de max_features\n",
        "scores = []\n",
        "for n in feature_range:\n",
        "    rf = RandomForestRegressor(n_estimators=150, max_features=n, random_state=1, n_jobs=-1)\n",
        "    score = cross_val_score(rf, X, y, cv=5)\n",
        "    scores.append(np.mean(score))\n",
        "    print(\"Score promedio con %d estimadores: %f\" % (n, scores[-1]))"
      ]
    },
    {
      "cell_type": "code",
      "execution_count": null,
      "metadata": {
        "id": "iQKPvU9i556q",
        "outputId": "69cb005e-1907-4bf7-e2b2-954da5ef2550"
      },
      "outputs": [
        {
          "data": {
            "text/plain": [
              "Text(0, 0.5, 'Score')"
            ]
          },
          "execution_count": 17,
          "metadata": {},
          "output_type": "execute_result"
        },
        {
          "data": {
            "image/png": "[encoded data removed]",
            "text/plain": [
              "<Figure size 432x288 with 1 Axes>"
            ]
          },
          "metadata": {
            "needs_background": "light"
          },
          "output_type": "display_data"
        }
      ],
      "source": [
        "# Gráfica del desempeño del modelo vs la cantidad de n_estimators\n",
        "plt.plot(feature_range, scores)\n",
        "plt.xlabel('n_features')\n",
        "plt.ylabel('Score')"
      ]
    },
    {
      "cell_type": "markdown",
      "metadata": {
        "id": "Yo833-KE556r"
      },
      "source": [
        "Como vemos, el modelo mejora a medida que vamos agregando variables, por lo que no podemos hacer un corte en el numero de variables del modelo"
      ]
    },
    {
      "cell_type": "code",
      "execution_count": 43,
      "metadata": {
        "colab": {
          "base_uri": "https://localhost:8080/"
        },
        "id": "fj4ZV49E556r",
        "outputId": "7ea15b51-7b68-471a-ad37-0fd937af21b3"
      },
      "outputs": [
        {
          "output_type": "stream",
          "name": "stdout",
          "text": [
            "MSE: 3825911.491710412\n",
            "Como vemos, el modelo ejecutado en promedio tiene un error de $1956.0 en sus predicciones\n"
          ]
        }
      ],
      "source": [
        "# Hacemos la prediccion con los parametros calibrados del modelo\n",
        "rf = RandomForestRegressor(n_estimators=150, max_features = 9)\n",
        "# Entrenamos el modelo\n",
        "rf.fit(X_train, y_train)\n",
        "y_pred = rf.predict(X_test)\n",
        "mse1 = mean_squared_error(y_test, y_pred)\n",
        "print(\"MSE:\", mse1)\n",
        "print(f\"Como vemos, el modelo ejecutado en promedio tiene un error de ${round(m.sqrt(mse1),0)} en sus predicciones\")"
      ]
    },
    {
      "cell_type": "markdown",
      "metadata": {
        "id": "lVjue3ln556r"
      },
      "source": [
        "Si comparamos con el modelo ejecutado antes de la calibracion, vemos que no hay una diferencia significativa entre el uno y el otro. El primer modelo tenia un error de 1757 en promedio, y el calibrado de 1755 dolares"
      ]
    },
    {
      "cell_type": "markdown",
      "metadata": {
        "id": "RBJRanok556s"
      },
      "source": [
        "### Punto 6 - XGBoost con librería\n",
        "\n",
        "En la celda 6 implementen un modelo XGBoost de clasificación con la librería sklearn y comenten sobre el desempeño del modelo."
      ]
    },
    {
      "cell_type": "code",
      "execution_count": 18,
      "metadata": {
        "colab": {
          "base_uri": "https://localhost:8080/"
        },
        "id": "nei-b4DK556s",
        "outputId": "d1779b4b-fbfb-431c-bfdb-2f5a05c4a864"
      },
      "outputs": [
        {
          "output_type": "stream",
          "name": "stdout",
          "text": [
            "Looking in indexes: https://pypi.org/simple, https://us-python.pkg.dev/colab-wheels/public/simple/\n",
            "Requirement already satisfied: xgboost in /usr/local/lib/python3.9/dist-packages (1.7.5)\n",
            "Requirement already satisfied: numpy in /usr/local/lib/python3.9/dist-packages (from xgboost) (1.22.4)\n",
            "Requirement already satisfied: scipy in /usr/local/lib/python3.9/dist-packages (from xgboost) (1.10.1)\n"
          ]
        }
      ],
      "source": [
        "# Celda 6\n",
        "!pip install xgboost\n",
        "\n",
        "from xgboost import XGBRegressor\n",
        "boost = XGBRegressor()\n",
        "boost.fit(X_train, y_train)\n",
        "y_pred = boost.predict(X_test)"
      ]
    },
    {
      "cell_type": "code",
      "execution_count": 19,
      "metadata": {
        "colab": {
          "base_uri": "https://localhost:8080/"
        },
        "id": "MxO-phXT556s",
        "outputId": "45c46660-978e-434a-a922-463b04abc789"
      },
      "outputs": [
        {
          "output_type": "stream",
          "name": "stdout",
          "text": [
            "Mean MSE_XGBoost: 3415869.6068107006\n",
            "Mean MAE_XGBoost: 1368.321854025332\n"
          ]
        }
      ],
      "source": [
        "#Desempeño del modelo\n",
        "mae_xg = mean_absolute_error(y_pred, y_test)\n",
        "mse_xg =  mean_squared_error(y_test, y_pred)\n",
        "\n",
        "print('Mean MSE_XGBoost:', mse_xg)\n",
        "print('Mean MAE_XGBoost:', mae_xg )"
      ]
    },
    {
      "cell_type": "markdown",
      "source": [
        "Los resultados del modelo son muy similares  al random forest calibrado.  En comparación con los modelos anteriores, el modelo XGBoost parece tener un mejor rendimiento. El MSE_XGBoost es menor que los resultados anteriores, lo que indica que el modelo XGBoost tiene un mejor ajuste a los datos y hace mejores predicciones. Además, el Mean MAE_XGBoost también es menor, lo que sugiere que las predicciones del modelo tienen un menor error absoluto promedio."
      ],
      "metadata": {
        "id": "hI2YfSFf6shW"
      }
    },
    {
      "cell_type": "markdown",
      "metadata": {
        "id": "_KtjUQf5556s"
      },
      "source": [
        "### Punto 7 - Calibración de parámetros XGBoost\n",
        "\n",
        "En la celda 7 calibren los parámetros learning rate, gamma y colsample_bytree del modelo XGBoost para clasificación, comenten sobre el desempeño del modelo y describan cómo cada parámetro afecta el desempeño del modelo."
      ]
    },
    {
      "cell_type": "code",
      "source": [
        "# Celda 7\n",
        "# Primero vamos a calibrar el numero de estimadores\n",
        "# Creación de lista de valores para iterar sobre diferentes valores de n_estimators\n",
        "from sklearn.model_selection import cross_val_score\n",
        "estimator_range = range(10, 310, 10)\n",
        "\n",
        "# Definición de lista para almacenar la exactitud (accuracy) promedio para cada valor de n_estimators\n",
        "scores = []\n",
        "\n",
        "# Uso de un 5-fold cross-validation para cada valor de n_estimators\n",
        "scores = []\n",
        "for n in estimator_range:\n",
        "    xgb = XGBRegressor(n_estimators=n, random_state=1, n_jobs=-1)\n",
        "    score = cross_val_score(xgb, X, y, cv=5)\n",
        "    scores.append(np.mean(score))"
      ],
      "metadata": {
        "id": "eyuWu2YB8tp6"
      },
      "execution_count": 20,
      "outputs": []
    },
    {
      "cell_type": "code",
      "source": [
        "# Gráfica del desempeño del modelo vs la cantidad de n_estimators\n",
        "plt.plot(estimator_range, scores)\n",
        "plt.xlabel('n_estimators')\n",
        "plt.ylabel('Score')"
      ],
      "metadata": {
        "colab": {
          "base_uri": "https://localhost:8080/",
          "height": 467
        },
        "id": "fQppF8fz91jN",
        "outputId": "09ac685f-b977-4a20-c678-6b358d70442d"
      },
      "execution_count": 21,
      "outputs": [
        {
          "output_type": "execute_result",
          "data": {
            "text/plain": [
              "Text(0, 0.5, 'Score')"
            ]
          },
          "metadata": {},
          "execution_count": 21
        },
        {
          "output_type": "display_data",
          "data": {
            "text/plain": [
              "<Figure size 640x480 with 1 Axes>"
            ],
            "image/png": "[encoded data removed]"
          },
          "metadata": {}
        }
      ]
    },
    {
      "cell_type": "markdown",
      "source": [
        "Observando la gráfica, se puede apreciar que el Accuracy es mejor hasta 25 predictores y despues disminuye"
      ],
      "metadata": {
        "id": "k8q_75VO-BlJ"
      }
    },
    {
      "cell_type": "code",
      "source": [
        "# Creación de lista de valores para iterar sobre diferentes valores de max_features\n",
        "feature_range = np.arange(0.1,1.1,0.1)\n",
        "\n",
        "# Definición de lista para almacenar la exactitud (accuracy) promedio para cada valor de max_features\n",
        "scores = []\n",
        "for n in feature_range:\n",
        "    xgb1 = XGBRegressor(n_estimators=25, subsample=n, random_state=1, n_jobs=-1)\n",
        "    score = cross_val_score(xgb1, X, y, cv=5)\n",
        "    scores.append(np.mean(score))"
      ],
      "metadata": {
        "id": "yFvurX9I98W2"
      },
      "execution_count": 23,
      "outputs": []
    },
    {
      "cell_type": "code",
      "source": [
        "# Gráfica del desempeño del modelo vs la cantidad de n_estimators\n",
        "plt.plot(feature_range, scores)\n",
        "plt.xlabel('n_features')\n",
        "plt.ylabel('Score')"
      ],
      "metadata": {
        "colab": {
          "base_uri": "https://localhost:8080/",
          "height": 472
        },
        "id": "1BSGS-ub-5_z",
        "outputId": "0301d987-66d4-4704-e3f8-847abed4b8ea"
      },
      "execution_count": 26,
      "outputs": [
        {
          "output_type": "execute_result",
          "data": {
            "text/plain": [
              "Text(0, 0.5, 'Score')"
            ]
          },
          "metadata": {},
          "execution_count": 26
        },
        {
          "output_type": "display_data",
          "data": {
            "text/plain": [
              "<Figure size 640x480 with 1 Axes>"
            ],
            "image/png": "[encoded data removed]"
          },
          "metadata": {}
        }
      ]
    },
    {
      "cell_type": "code",
      "source": [
        "#Calibración max_depth\n",
        "\n",
        "depth_range = range(1,11)\n",
        "# Definición de lista para almacenar la exactitud (accuracy) promedio para cada valor de max_features\n",
        "scores1 = []\n",
        "for depth in depth_range:\n",
        "    xgb2 = XGBRegressor(n_estimators=25, subsample=0.9,max_depth = depth, random_state=1, n_jobs=-1)\n",
        "    score = cross_val_score(xgb2, X, y, cv=5)\n",
        "    scores1.append(np.mean(score))"
      ],
      "metadata": {
        "id": "ur1fSOqRAi05"
      },
      "execution_count": 27,
      "outputs": []
    },
    {
      "cell_type": "code",
      "source": [
        "# Gráfica del desempeño del modelo vs la cantidad de n_estimators\n",
        "plt.plot(depth_range, scores1)\n",
        "plt.xlabel('depth_range')\n",
        "plt.ylabel('Score')"
      ],
      "metadata": {
        "colab": {
          "base_uri": "https://localhost:8080/",
          "height": 467
        },
        "id": "2bMkjlxSBHlC",
        "outputId": "94aee37d-8995-4a5b-a60c-f2587c2ac3da"
      },
      "execution_count": 28,
      "outputs": [
        {
          "output_type": "execute_result",
          "data": {
            "text/plain": [
              "Text(0, 0.5, 'Score')"
            ]
          },
          "metadata": {},
          "execution_count": 28
        },
        {
          "output_type": "display_data",
          "data": {
            "text/plain": [
              "<Figure size 640x480 with 1 Axes>"
            ],
            "image/png": "[encoded data removed]"
          },
          "metadata": {}
        }
      ]
    },
    {
      "cell_type": "code",
      "source": [
        "#Calibración learning rate\n",
        "\n",
        "learning_range = np.arange(0.1,1.1,0.1)\n",
        "# Definición de lista para almacenar la exactitud (accuracy) promedio para cada valor de max_features\n",
        "scores = []\n",
        "for learning in learning_range:\n",
        "    xgb3 = XGBRegressor(n_estimators=25, subsample=0.9,max_depth = 4, learning_rate = learning, random_state=1, n_jobs=-1)\n",
        "    score = cross_val_score(xgb3, X, y, cv=5)\n",
        "    scores.append(np.mean(score))"
      ],
      "metadata": {
        "id": "puysmJHQBPre"
      },
      "execution_count": 29,
      "outputs": []
    },
    {
      "cell_type": "code",
      "source": [
        "# Gráfica del desempeño del modelo vs la cantidad de n_estimators\n",
        "plt.plot(learning_range, scores)\n",
        "plt.xlabel('learning_range')\n",
        "plt.ylabel('Score')"
      ],
      "metadata": {
        "colab": {
          "base_uri": "https://localhost:8080/",
          "height": 467
        },
        "id": "pedhtts0Br-Q",
        "outputId": "91a472af-13eb-448d-dd32-768eaf632893"
      },
      "execution_count": 31,
      "outputs": [
        {
          "output_type": "execute_result",
          "data": {
            "text/plain": [
              "Text(0, 0.5, 'Score')"
            ]
          },
          "metadata": {},
          "execution_count": 31
        },
        {
          "output_type": "display_data",
          "data": {
            "text/plain": [
              "<Figure size 640x480 with 1 Axes>"
            ],
            "image/png": "[encoded data removed]"
          },
          "metadata": {}
        }
      ]
    },
    {
      "cell_type": "code",
      "source": [
        "#Calibración gamma\n",
        "\n",
        "gamma_range = range(1,100,5)\n",
        "# Definición de lista para almacenar la exactitud (accuracy) promedio para cada valor de max_features\n",
        "scores = []\n",
        "for gamma in gamma_range:\n",
        "    xgb4 = XGBRegressor(n_estimators=25, subsample=0.9,max_depth = 4, learning_rate = 0.3, gamma=gamma, random_state=1, n_jobs=-1)\n",
        "    score = cross_val_score(xgb4, X, y, cv=5)\n",
        "    scores.append(np.mean(score))"
      ],
      "metadata": {
        "id": "unxRF_s1B6nh"
      },
      "execution_count": 32,
      "outputs": []
    },
    {
      "cell_type": "code",
      "source": [
        "# Gráfica del desempeño del modelo vs la cantidad de n_estimators\n",
        "plt.plot(gamma_range, scores)\n",
        "plt.xlabel('gamma_range')\n",
        "plt.ylabel('Score')"
      ],
      "metadata": {
        "colab": {
          "base_uri": "https://localhost:8080/",
          "height": 466
        },
        "id": "cSYkpoDKCN-q",
        "outputId": "07474b91-a940-4803-96e8-9cb659e0883d"
      },
      "execution_count": 33,
      "outputs": [
        {
          "output_type": "execute_result",
          "data": {
            "text/plain": [
              "Text(0, 0.5, 'Score')"
            ]
          },
          "metadata": {},
          "execution_count": 33
        },
        {
          "output_type": "display_data",
          "data": {
            "text/plain": [
              "<Figure size 640x480 with 1 Axes>"
            ],
            "image/png": "[encoded data removed]"
          },
          "metadata": {}
        }
      ]
    },
    {
      "cell_type": "code",
      "source": [
        "#Calibración colsample_bytree\n",
        "\n",
        "colsample_range = np.arange(0.1,1.1,0.1)\n",
        "# Definición de lista para almacenar la exactitud (accuracy) promedio para cada valor de max_features\n",
        "scores = []\n",
        "for colsample in colsample_range:\n",
        "    xgb5 = XGBRegressor(n_estimators=25, subsample=0.9,max_depth = 4, learning_rate = 0.3, gamma=0, colsample_bytree=colsample, random_state=1, n_jobs=-1)\n",
        "    score = cross_val_score(xgb5, X, y, cv=5)\n",
        "    scores.append(np.mean(score))"
      ],
      "metadata": {
        "id": "Nt4im9SwCV0x"
      },
      "execution_count": 34,
      "outputs": []
    },
    {
      "cell_type": "code",
      "source": [
        "# Gráfica del desempeño del modelo vs la cantidad de n_estimators\n",
        "plt.plot(colsample_range, scores)\n",
        "plt.xlabel('colsample_range')\n",
        "plt.ylabel('Score')"
      ],
      "metadata": {
        "colab": {
          "base_uri": "https://localhost:8080/",
          "height": 467
        },
        "id": "tuJyjnW8C2Mr",
        "outputId": "8e3d333f-253f-4524-c624-daed6758b2e4"
      },
      "execution_count": 35,
      "outputs": [
        {
          "output_type": "execute_result",
          "data": {
            "text/plain": [
              "Text(0, 0.5, 'Score')"
            ]
          },
          "metadata": {},
          "execution_count": 35
        },
        {
          "output_type": "display_data",
          "data": {
            "text/plain": [
              "<Figure size 640x480 with 1 Axes>"
            ],
            "image/png": "[encoded data removed]"
          },
          "metadata": {}
        }
      ]
    },
    {
      "cell_type": "code",
      "source": [
        "# Hacemos la prediccion con los parametros calibrados del modelo\n",
        "xgbf = XGBRegressor(n_estimators=25, subsample=0.9,max_depth = 4, learning_rate = 0.3, gamma=0, colsample_bytree=0.9, random_state=1, n_jobs=-1)\n",
        "# Entrenamos el modelo\n",
        "xgbf.fit(X_train, y_train)\n",
        "y_pred = xgbf.predict(X_test)\n",
        "msexgb = mean_squared_error(y_test, y_pred)\n",
        "print(\"MSE:\", msexgb)\n",
        "print(f\"Como vemos, el modelo ejecutado en promedio tiene un error de ${round(m.sqrt(msexgb),0)} en sus predicciones\")"
      ],
      "metadata": {
        "colab": {
          "base_uri": "https://localhost:8080/"
        },
        "id": "4sipYYKFDBjm",
        "outputId": "9847dba6-27c7-4c06-f360-f4b9ec5a420a"
      },
      "execution_count": 37,
      "outputs": [
        {
          "output_type": "stream",
          "name": "stdout",
          "text": [
            "MSE: 2668513.0861164206\n",
            "Como vemos, el modelo ejecutado en promedio tiene un error de $1634.0 en sus predicciones\n"
          ]
        }
      ]
    },
    {
      "cell_type": "markdown",
      "source": [
        "La calibración del modelo XGBoost ha mejorado significativamente el rendimiento del modelo en comparación con los resultados anteriores. El MSE de 2668513.0861164206 es significativamente menor que el MSE anterior de 3415869.6068107006. Esto indica que el modelo XGBoost calibrado tiene un mejor ajuste a los datos y hace mejores predicciones en comparación con el modelo sin calibrar."
      ],
      "metadata": {
        "id": "cGIWcOtSGZvA"
      }
    },
    {
      "cell_type": "markdown",
      "metadata": {
        "id": "EkB-5P9U556t"
      },
      "source": [
        "XGBoost es una técnica de aprendizaje automático que se utiliza para la clasificación y regresión de datos. El modelo utiliza una serie de árboles de decisión y la optimización de funciones de pérdida para mejorar la precisión de las predicciones. A través de la calibración de los parámetros, podemos ajustar el modelo para maximizar su desempeño y obtener los mejores resultados posibles.\n",
        "\n",
        "El primer parámetro a considerar es el learning rate, que controla la tasa de aprendizaje del modelo. Un valor alto puede causar que el modelo salte sobre los mínimos locales y no logre converger, mientras que un valor bajo puede hacer que el modelo sea muy lento y requiera un mayor número de iteraciones para converger. Por lo tanto, es importante encontrar un equilibrio en la tasa de aprendizaje que permita que el modelo converja de manera efectiva sin sacrificar la velocidad.\n",
        "\n",
        "El segundo parámetro a considerar es el gamma, que controla la complejidad del modelo al limitar la cantidad de nodos en cada árbol de decisión. Un valor alto de gamma puede causar que el modelo sea demasiado simple y no logre capturar toda la complejidad de los datos, mientras que un valor bajo puede hacer que el modelo sea demasiado complejo y cause overfitting. Por lo tanto, es importante encontrar un equilibrio en la complejidad del modelo que permita que capture suficientemente la complejidad de los datos sin sacrificar la generalización.\n",
        "\n",
        "El tercer parámetro a considerar es el colsample_bytree, que controla la cantidad de columnas utilizadas en cada árbol de decisión. Un valor alto puede causar overfitting al utilizar demasiadas columnas, mientras que un valor bajo puede hacer que el modelo pierda información importante. Por lo tanto, es importante encontrar un equilibrio en la cantidad de columnas que permite al modelo utilizar suficiente información para hacer predicciones precisas sin causar overfitting.\n",
        "\n",
        "En resumen, la calibración de los parámetros learning rate, gamma y colsample_bytree en XGBoost es esencial para maximizar la precisión de las predicciones. Es importante encontrar un equilibrio en cada parámetro que permita que el modelo capture la complejidad de los datos sin sacrificar la velocidad o la generalización."
      ]
    },
    {
      "cell_type": "markdown",
      "metadata": {
        "id": "v2OIct0Q556t"
      },
      "source": [
        "### Punto 8 - Comparación y análisis de resultados\n",
        "En la celda 8 comparen los resultados obtenidos de los diferentes modelos (random forest y XGBoost) y comenten las ventajas del mejor modelo y las desventajas del modelo con el menor desempeño."
      ]
    },
    {
      "cell_type": "code",
      "execution_count": 45,
      "metadata": {
        "colab": {
          "base_uri": "https://localhost:8080/",
          "height": 563
        },
        "id": "8g8_uggm556t",
        "outputId": "3fe439cb-3b03-42aa-e8eb-16233c96a181"
      },
      "outputs": [
        {
          "output_type": "display_data",
          "data": {
            "text/plain": [
              "<Figure size 640x480 with 1 Axes>"
            ],
            "image/png": "[encoded data removed]"
          },
          "metadata": {}
        }
      ],
      "source": [
        "# Celda 8\n",
        "fig = plt.figure()\n",
        "ax = fig.add_axes([0,0,1,1])\n",
        "#Asignamos el titulo\n",
        "ax.set_title(\"Comparación de modelos RMS\")\n",
        "\n",
        "ejeX = [ 'BaggingManual','BaggingCalibrado','Random Forest','Random forest calibrado', 'XGBoost','XGBoostCalibrado']\n",
        "ejeY = [round(bag_mse,3),round(mse_bagging,3),round(mse_rf,3),round(mse1,3),round(mse_xg,3),round(msexgb,3)]\n",
        "ax.bar(ejeX,ejeY)\n",
        "\n",
        "def addlabels(x,y,plotP):\n",
        "    for i in range(len(x)):\n",
        "        plotP.text(i,y[i],y[i])\n",
        "addlabels(ejeX,ejeY,plt)\n",
        "plt.show()\n"
      ]
    },
    {
      "cell_type": "markdown",
      "metadata": {
        "id": "wA22XsZh556u"
      },
      "source": [
        "De acuerdo con los resultados obtenidos, se puede concluir que el modelo Bagging tiene un mejor desempeño que el modelo Random Forest y XGBoost para este conjunto de datos en particular. Sin embargo el XGBoost Calibrado tiene un mejor desempeño que el resto. El valor de MSE obtenido para el modelo XGBoost es (2668513), para el Bagging (2731388.04) es significativamente menor que los valores obtenidos para el modelo XGBoost (3415869.6) y Random Forest (3810579.6 y 3830705.5). lo que sugiere que el modelo Bagging y XGBoost calibrado es una opción viable para este conjunto de datos, especialmente si se busca minimizar el error cuadrático medio. Sin embargo, es importante tener en cuenta que los resultados obtenidos pueden variar para diferentes conjuntos de datos y que es necesario realizar una evaluación más detallada de los modelos antes de seleccionar el más adecuado para una tarea específica."
      ]
    }
  ],
  "metadata": {
    "kernelspec": {
      "display_name": "Python 3",
      "language": "python",
      "name": "python3"
    },
    "language_info": {
      "codemirror_mode": {
        "name": "ipython",
        "version": 3
      },
      "file_extension": ".py",
      "mimetype": "text/x-python",
      "name": "python",
      "nbconvert_exporter": "python",
      "pygments_lexer": "ipython3",
      "version": "3.9.12"
    },
    "colab": {
      "provenance": []
    }
  },
  "nbformat": 4,
  "nbformat_minor": 0
}