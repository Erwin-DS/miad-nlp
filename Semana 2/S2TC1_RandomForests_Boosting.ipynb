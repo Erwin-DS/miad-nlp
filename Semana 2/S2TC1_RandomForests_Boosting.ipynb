{
 "cells": [
  {
   "cell_type": "markdown",
   "metadata": {},
   "source": [
    "![image info](https://raw.githubusercontent.com/albahnsen/MIAD_ML_and_NLP/main/images/banner_1.png)"
   ]
  },
  {
   "cell_type": "markdown",
   "metadata": {},
   "source": [
    "# Taller: Construcción e implementación de modelos Bagging, Random Forest y XGBoost\n",
    "\n",
    "En este taller podrán poner en práctica sus conocimientos sobre la construcción e implementación de modelos de Bagging, Random Forest y XGBoost. El taller está constituido por 8 puntos, en los cuales deberan seguir las intrucciones de cada numeral para su desarrollo."
   ]
  },
  {
   "cell_type": "markdown",
   "metadata": {},
   "source": [
    "## Datos predicción precio de automóviles\n",
    "\n",
    "En este taller se usará el conjunto de datos de Car Listings de Kaggle donde cada observación representa el precio de un automóvil teniendo en cuenta distintas variables como año, marca, modelo, entre otras. El objetivo es predecir el precio del automóvil. Para más detalles puede visitar el siguiente enlace: [datos](https://www.kaggle.com/jpayne/852k-used-car-listings)."
   ]
  },
  {
   "cell_type": "code",
   "execution_count": 1,
   "metadata": {},
   "outputs": [],
   "source": [
    "import warnings\n",
    "warnings.filterwarnings('ignore')"
   ]
  },
  {
   "cell_type": "code",
   "execution_count": 2,
   "metadata": {},
   "outputs": [
    {
     "data": {
      "text/html": [
       "<div>\n",
       "<style scoped>\n",
       "    .dataframe tbody tr th:only-of-type {\n",
       "        vertical-align: middle;\n",
       "    }\n",
       "\n",
       "    .dataframe tbody tr th {\n",
       "        vertical-align: top;\n",
       "    }\n",
       "\n",
       "    .dataframe thead th {\n",
       "        text-align: right;\n",
       "    }\n",
       "</style>\n",
       "<table border=\"1\" class=\"dataframe\">\n",
       "  <thead>\n",
       "    <tr style=\"text-align: right;\">\n",
       "      <th></th>\n",
       "      <th>Price</th>\n",
       "      <th>Year</th>\n",
       "      <th>Mileage</th>\n",
       "      <th>M_Camry</th>\n",
       "      <th>M_Camry4dr</th>\n",
       "      <th>M_CamryBase</th>\n",
       "      <th>M_CamryL</th>\n",
       "      <th>M_CamryLE</th>\n",
       "      <th>M_CamrySE</th>\n",
       "      <th>M_CamryXLE</th>\n",
       "    </tr>\n",
       "  </thead>\n",
       "  <tbody>\n",
       "    <tr>\n",
       "      <th>7</th>\n",
       "      <td>21995</td>\n",
       "      <td>2014</td>\n",
       "      <td>6480</td>\n",
       "      <td>0</td>\n",
       "      <td>0</td>\n",
       "      <td>0</td>\n",
       "      <td>1</td>\n",
       "      <td>0</td>\n",
       "      <td>0</td>\n",
       "      <td>0</td>\n",
       "    </tr>\n",
       "    <tr>\n",
       "      <th>11</th>\n",
       "      <td>13995</td>\n",
       "      <td>2014</td>\n",
       "      <td>39972</td>\n",
       "      <td>0</td>\n",
       "      <td>0</td>\n",
       "      <td>0</td>\n",
       "      <td>0</td>\n",
       "      <td>1</td>\n",
       "      <td>0</td>\n",
       "      <td>0</td>\n",
       "    </tr>\n",
       "    <tr>\n",
       "      <th>167</th>\n",
       "      <td>17941</td>\n",
       "      <td>2016</td>\n",
       "      <td>18989</td>\n",
       "      <td>0</td>\n",
       "      <td>0</td>\n",
       "      <td>0</td>\n",
       "      <td>0</td>\n",
       "      <td>0</td>\n",
       "      <td>1</td>\n",
       "      <td>0</td>\n",
       "    </tr>\n",
       "    <tr>\n",
       "      <th>225</th>\n",
       "      <td>12493</td>\n",
       "      <td>2014</td>\n",
       "      <td>51330</td>\n",
       "      <td>0</td>\n",
       "      <td>0</td>\n",
       "      <td>0</td>\n",
       "      <td>1</td>\n",
       "      <td>0</td>\n",
       "      <td>0</td>\n",
       "      <td>0</td>\n",
       "    </tr>\n",
       "    <tr>\n",
       "      <th>270</th>\n",
       "      <td>7994</td>\n",
       "      <td>2007</td>\n",
       "      <td>116065</td>\n",
       "      <td>0</td>\n",
       "      <td>1</td>\n",
       "      <td>0</td>\n",
       "      <td>0</td>\n",
       "      <td>0</td>\n",
       "      <td>0</td>\n",
       "      <td>0</td>\n",
       "    </tr>\n",
       "  </tbody>\n",
       "</table>\n",
       "</div>"
      ],
      "text/plain": [
       "     Price  Year  Mileage  M_Camry  M_Camry4dr  M_CamryBase  M_CamryL  \\\n",
       "7    21995  2014     6480        0           0            0         1   \n",
       "11   13995  2014    39972        0           0            0         0   \n",
       "167  17941  2016    18989        0           0            0         0   \n",
       "225  12493  2014    51330        0           0            0         1   \n",
       "270   7994  2007   116065        0           1            0         0   \n",
       "\n",
       "     M_CamryLE  M_CamrySE  M_CamryXLE  \n",
       "7            0          0           0  \n",
       "11           1          0           0  \n",
       "167          0          1           0  \n",
       "225          0          0           0  \n",
       "270          0          0           0  "
      ]
     },
     "execution_count": 2,
     "metadata": {},
     "output_type": "execute_result"
    }
   ],
   "source": [
    "# Importación de librerías\n",
    "%matplotlib inline\n",
    "import pandas as pd\n",
    "\n",
    "import numpy as np\n",
    "import matplotlib.pyplot as plt\n",
    "\n",
    "# Lectura de la información de archivo .csv\n",
    "data = pd.read_csv('https://raw.githubusercontent.com/albahnsen/MIAD_ML_and_NLP/main/datasets/dataTrain_carListings.zip')\n",
    "\n",
    "# Preprocesamiento de datos para el taller\n",
    "data = data.loc[data['Model'].str.contains('Camry')].drop(['Make', 'State'], axis=1)\n",
    "data = data.join(pd.get_dummies(data['Model'], prefix='M'))\n",
    "data = data.drop(['Model'], axis=1)\n",
    "\n",
    "# Visualización dataset\n",
    "data.head()"
   ]
  },
  {
   "cell_type": "code",
   "execution_count": 3,
   "metadata": {},
   "outputs": [],
   "source": [
    "# Separación de variables predictoras (X) y variable de interés (y)\n",
    "y = data['Price']\n",
    "X = data.drop(['Price'], axis=1)"
   ]
  },
  {
   "cell_type": "code",
   "execution_count": 4,
   "metadata": {},
   "outputs": [],
   "source": [
    "# Separación de datos en set de entrenamiento y test\n",
    "from sklearn.model_selection import train_test_split\n",
    "X_train, X_test, y_train, y_test = train_test_split(X, y, test_size=0.33, random_state=42)"
   ]
  },
  {
   "cell_type": "markdown",
   "metadata": {},
   "source": [
    "### Punto 1 - Árbol de decisión manual\n",
    "\n",
    "En la celda 1 creen un árbol de decisión **manualmente**  que considere los set de entrenamiento y test definidos anteriormente y presenten el RMSE y MAE del modelo en el set de test."
   ]
  },
  {
   "cell_type": "code",
   "execution_count": 5,
   "metadata": {},
   "outputs": [
    {
     "name": "stdout",
     "output_type": "stream",
     "text": [
      "RMSE:  15113.767253661932\n",
      "MAE:  14598.966224018475\n"
     ]
    }
   ],
   "source": [
    "# Definición de parámetros y criterios de parada\n",
    "max_depth = None\n",
    "num_pct = 10\n",
    "max_features = None\n",
    "min_gain=0.001\n",
    "\n",
    "def calcular_rmse(y_true, y_pred):\n",
    "    \"\"\"\n",
    "    Calcula la raíz del error cuadrático medio (RMSE) entre los valores verdaderos y predichos.\n",
    "\n",
    "    Parameters:\n",
    "    y_true (list, array): Valores verdaderos.\n",
    "    y_pred (list, array): Valores predichos.\n",
    "\n",
    "    Returns:\n",
    "    float: La raíz del error cuadrático medio (RMSE).\n",
    "    \"\"\"\n",
    "    from sklearn.metrics import mean_squared_error\n",
    "    import numpy as np\n",
    "\n",
    "    return np.sqrt(mean_squared_error(y_true, y_pred))\n",
    "\n",
    "def calcular_mae(y_true, y_pred):\n",
    "    \"\"\"\n",
    "    Calcula el error absoluto medio (MAE) entre los valores verdaderos y predichos.\n",
    "\n",
    "    Parameters:\n",
    "    y_true (list, array): Valores verdaderos.\n",
    "    y_pred (list, array): Valores predichos.\n",
    "\n",
    "    Returns:\n",
    "    float: El error absoluto medio (MAE).\n",
    "    \"\"\"\n",
    "    from sklearn.metrics import mean_absolute_error\n",
    "\n",
    "    return mean_absolute_error(y_true, y_pred)\n",
    "\n",
    "\n",
    "# Definición de la función que calcula el gini index\n",
    "def gini(y):\n",
    "    if y.shape[0] == 0:\n",
    "        return 0\n",
    "    else:\n",
    "        return 1 - (y.mean()**2 + (1 - y.mean())**2)\n",
    "    \n",
    "# Definición de la función gini_imputiry para calular la ganancia de una variable predictora j dado el punto de corte k\n",
    "def gini_impurity(X_col, y, split):\n",
    "    \n",
    "    filter_l = X_col < split\n",
    "    y_l = y.loc[filter_l]\n",
    "    y_r = y.loc[~filter_l]\n",
    "    \n",
    "    n_l = y_l.shape[0]\n",
    "    n_r = y_r.shape[0]\n",
    "    \n",
    "    gini_y = gini(y)\n",
    "    gini_l = gini(y_l)\n",
    "    gini_r = gini(y_r)\n",
    "    \n",
    "    gini_impurity_ = gini_y - (n_l / (n_l + n_r) * gini_l + n_r / (n_l + n_r) * gini_r)\n",
    "    \n",
    "    return gini_impurity_\n",
    "\n",
    "# Definición de la función best_split para calcular cuál es la mejor variable y punto de cortepara hacer la bifurcación del árbol\n",
    "def best_split(X, y, num_pct=10):\n",
    "    \n",
    "    features = range(X.shape[1])\n",
    "    \n",
    "    best_split = [0, 0, 0]  # j, split, gain\n",
    "    \n",
    "    # Para todas las varibles \n",
    "    for j in features:\n",
    "        \n",
    "        splits = np.percentile(X.iloc[:, j], np.arange(0, 100, 100.0 / (num_pct+1)).tolist())\n",
    "        splits = np.unique(splits)[1:]\n",
    "        \n",
    "        # Para cada partición\n",
    "        for split in splits:\n",
    "            gain = gini_impurity(X.iloc[:, j], y, split)\n",
    "                        \n",
    "            if gain > best_split[2]:\n",
    "                best_split = [j, split, gain]\n",
    "    \n",
    "    return best_split\n",
    "\n",
    "# Definición de la función tree_grow para hacer un crecimiento recursivo del árbol\n",
    "def tree_grow(X, y, level=0, min_gain=0.001, max_depth=None, num_pct=10):\n",
    "    \n",
    "    # Si solo es una observación\n",
    "    if X.shape[0] == 1:\n",
    "        tree = dict(y_pred=y.iloc[:1].values[0], y_prob=0.5, level=level, split=-1, n_samples=1, gain=0)\n",
    "        return tree\n",
    "    \n",
    "    # Calcular la mejor división\n",
    "    j, split, gain = best_split(X, y, num_pct)\n",
    "    \n",
    "    # Guardar el árbol y estimar la predicción\n",
    "    y_pred = int(y.mean() >= 0.5) \n",
    "    y_prob = (y.sum() + 1.0) / (y.shape[0] + 2.0)  # Corrección Laplace \n",
    "    \n",
    "    tree = dict(y_pred=y_pred, y_prob=y_prob, level=level, split=-1, n_samples=X.shape[0], gain=gain)\n",
    "    # Revisar el criterio de parada \n",
    "    if gain < min_gain:\n",
    "        return tree\n",
    "    if max_depth is not None:\n",
    "        if level >= max_depth:\n",
    "            return tree   \n",
    "    \n",
    "    # Continuar creando la partición\n",
    "    filter_l = X.iloc[:, j] < split\n",
    "    X_l, y_l = X.loc[filter_l], y.loc[filter_l]\n",
    "    X_r, y_r = X.loc[~filter_l], y.loc[~filter_l]\n",
    "    tree['split'] = [j, split]\n",
    "\n",
    "    # Siguiente iteración para cada partición\n",
    "    \n",
    "    tree['sl'] = tree_grow(X_l, y_l, level + 1, min_gain=min_gain, max_depth=max_depth, num_pct=num_pct)\n",
    "    tree['sr'] = tree_grow(X_r, y_r, level + 1, min_gain=min_gain, max_depth=max_depth, num_pct=num_pct)\n",
    "    \n",
    "    return tree\n",
    "\n",
    "# Aplicación de la función tree_grow\n",
    "tree_grow(X, y, level=0, min_gain=0.001, max_depth=1, num_pct=10)\n",
    "\n",
    "def tree_predict(X, tree, proba=False):\n",
    "    \n",
    "    predicted = np.ones(X.shape[0])\n",
    "\n",
    "    # Revisar si es el nodo final\n",
    "    if tree['split'] == -1:\n",
    "        if not proba:\n",
    "            predicted = predicted * tree['y_pred']\n",
    "        else:\n",
    "            predicted = predicted * tree['y_prob']\n",
    "            \n",
    "    else:\n",
    "        \n",
    "        j, split = tree['split']\n",
    "        filter_l = (X.iloc[:, j] < split)\n",
    "        X_l = X.loc[filter_l]\n",
    "        X_r = X.loc[~filter_l]\n",
    "\n",
    "        if X_l.shape[0] == 0:  # Si el nodo izquierdo está vacio solo continua con el derecho \n",
    "            predicted[~filter_l] = tree_predict(X_r, tree['sr'], proba)\n",
    "        elif X_r.shape[0] == 0:  #  Si el nodo derecho está vacio solo continua con el izquierdo\n",
    "            predicted[filter_l] = tree_predict(X_l, tree['sl'], proba)\n",
    "        else:\n",
    "            predicted[filter_l] = tree_predict(X_l, tree['sl'], proba)\n",
    "            predicted[~filter_l] = tree_predict(X_r, tree['sr'], proba)\n",
    "\n",
    "    return predicted\n",
    "\n",
    "# Aplicación de la función tree_grow\n",
    "tree = tree_grow(X_train, y_train, level=0, min_gain=0.001, max_depth=3, num_pct=10)\n",
    "\n",
    "# Ejecución de función tree_predict\n",
    "arbol_decision = tree_predict(X_train, tree)\n",
    "\n",
    "# Realizar predicciones sobre el set de test\n",
    "predictions = []\n",
    "for example in X_test.values:\n",
    "    prediction = tree_predict(pd.DataFrame(example.reshape(1,-1)), tree)\n",
    "    predictions.append(prediction[0])\n",
    "\n",
    "# Calcular el error en el set de test\n",
    "dt_rmse = calcular_rmse(y_test.tolist(), predictions)\n",
    "dt_mae = calcular_mae(y_test.tolist(), predictions)\n",
    "\n",
    "print(\"RMSE: \", dt_rmse)\n",
    "print(\"MAE: \", dt_mae)"
   ]
  },
  {
   "cell_type": "markdown",
   "metadata": {},
   "source": [
    "### Punto 2 - Bagging manual\n",
    "\n",
    "En la celda 2 creen un modelo bagging **manualmente** con 10 árboles de clasificación y comenten sobre el desempeño del modelo."
   ]
  },
  {
   "cell_type": "code",
   "execution_count": 6,
   "metadata": {},
   "outputs": [
    {
     "data": {
      "text/plain": [
       "[array([3582, 3454, 1346, ...,  826,  801, 5657]),\n",
       " array([6962, 3408, 2553, ..., 6611,  877, 6412]),\n",
       " array([1917, 3131,  384, ..., 2876, 6449, 6557]),\n",
       " array([3849, 4565, 6820, ..., 6835, 4643,  639]),\n",
       " array([2468, 3608, 1367, ..., 3108, 2961, 4357]),\n",
       " array([3142, 1537, 5966, ..., 3224, 6922, 3396]),\n",
       " array([6588, 3753, 1786, ..., 2131, 4627, 5672]),\n",
       " array([1289, 3776,  981, ..., 1891, 6034, 6165]),\n",
       " array([6079, 3819, 6976, ..., 6478, 2225, 5072]),\n",
       " array([3952, 3276,  896, ..., 4589, 1964,  893])]"
      ]
     },
     "execution_count": 6,
     "metadata": {},
     "output_type": "execute_result"
    }
   ],
   "source": [
    "# Celda 2\n",
    "\n",
    "# Se crea un arreglo de 1 a 20\n",
    "np.random.seed(1)\n",
    "\n",
    "# Creación de 10 muestras de bootstrap \n",
    "np.random.seed(123)\n",
    "\n",
    "n_samples = X_train.shape[0]\n",
    "n_B = 10\n",
    "\n",
    "samples = [np.random.choice(a=n_samples, size=n_samples, replace=True) for _ in range(1, n_B +1 )]\n",
    "samples"
   ]
  },
  {
   "cell_type": "code",
   "execution_count": 7,
   "metadata": {},
   "outputs": [
    {
     "data": {
      "text/html": [
       "<div>\n",
       "<style scoped>\n",
       "    .dataframe tbody tr th:only-of-type {\n",
       "        vertical-align: middle;\n",
       "    }\n",
       "\n",
       "    .dataframe tbody tr th {\n",
       "        vertical-align: top;\n",
       "    }\n",
       "\n",
       "    .dataframe thead tr th {\n",
       "        text-align: left;\n",
       "    }\n",
       "</style>\n",
       "<table border=\"1\" class=\"dataframe\">\n",
       "  <thead>\n",
       "    <tr>\n",
       "      <th></th>\n",
       "      <th>0</th>\n",
       "      <th>1</th>\n",
       "      <th>2</th>\n",
       "      <th>3</th>\n",
       "      <th>4</th>\n",
       "      <th>5</th>\n",
       "      <th>6</th>\n",
       "      <th>7</th>\n",
       "      <th>8</th>\n",
       "      <th>9</th>\n",
       "    </tr>\n",
       "  </thead>\n",
       "  <tbody>\n",
       "    <tr>\n",
       "      <th>257343</th>\n",
       "      <td>14980.0</td>\n",
       "      <td>13990.0</td>\n",
       "      <td>14980.0</td>\n",
       "      <td>12488.0</td>\n",
       "      <td>12488.0</td>\n",
       "      <td>12489.0</td>\n",
       "      <td>12488.0</td>\n",
       "      <td>11995.0</td>\n",
       "      <td>12488.0</td>\n",
       "      <td>11995.0</td>\n",
       "    </tr>\n",
       "    <tr>\n",
       "      <th>326011</th>\n",
       "      <td>6492.0</td>\n",
       "      <td>5995.0</td>\n",
       "      <td>6492.0</td>\n",
       "      <td>6492.0</td>\n",
       "      <td>6492.0</td>\n",
       "      <td>6492.0</td>\n",
       "      <td>6999.0</td>\n",
       "      <td>6492.0</td>\n",
       "      <td>6492.0</td>\n",
       "      <td>6492.0</td>\n",
       "    </tr>\n",
       "    <tr>\n",
       "      <th>242354</th>\n",
       "      <td>16491.0</td>\n",
       "      <td>16491.0</td>\n",
       "      <td>16491.0</td>\n",
       "      <td>16491.0</td>\n",
       "      <td>16491.0</td>\n",
       "      <td>16491.0</td>\n",
       "      <td>16491.0</td>\n",
       "      <td>16491.0</td>\n",
       "      <td>16491.0</td>\n",
       "      <td>16491.0</td>\n",
       "    </tr>\n",
       "    <tr>\n",
       "      <th>266376</th>\n",
       "      <td>21990.0</td>\n",
       "      <td>21990.0</td>\n",
       "      <td>21990.0</td>\n",
       "      <td>15988.0</td>\n",
       "      <td>15988.0</td>\n",
       "      <td>15900.0</td>\n",
       "      <td>15900.0</td>\n",
       "      <td>15900.0</td>\n",
       "      <td>15900.0</td>\n",
       "      <td>15900.0</td>\n",
       "    </tr>\n",
       "    <tr>\n",
       "      <th>396954</th>\n",
       "      <td>15988.0</td>\n",
       "      <td>15988.0</td>\n",
       "      <td>15988.0</td>\n",
       "      <td>15988.0</td>\n",
       "      <td>15988.0</td>\n",
       "      <td>15988.0</td>\n",
       "      <td>15988.0</td>\n",
       "      <td>15988.0</td>\n",
       "      <td>15988.0</td>\n",
       "      <td>15988.0</td>\n",
       "    </tr>\n",
       "    <tr>\n",
       "      <th>...</th>\n",
       "      <td>...</td>\n",
       "      <td>...</td>\n",
       "      <td>...</td>\n",
       "      <td>...</td>\n",
       "      <td>...</td>\n",
       "      <td>...</td>\n",
       "      <td>...</td>\n",
       "      <td>...</td>\n",
       "      <td>...</td>\n",
       "      <td>...</td>\n",
       "    </tr>\n",
       "    <tr>\n",
       "      <th>144298</th>\n",
       "      <td>13836.0</td>\n",
       "      <td>15121.0</td>\n",
       "      <td>13836.0</td>\n",
       "      <td>17561.0</td>\n",
       "      <td>17561.0</td>\n",
       "      <td>16468.0</td>\n",
       "      <td>16468.0</td>\n",
       "      <td>16468.0</td>\n",
       "      <td>14999.0</td>\n",
       "      <td>16468.0</td>\n",
       "    </tr>\n",
       "    <tr>\n",
       "      <th>364521</th>\n",
       "      <td>15999.0</td>\n",
       "      <td>15999.0</td>\n",
       "      <td>14851.0</td>\n",
       "      <td>14851.0</td>\n",
       "      <td>15999.0</td>\n",
       "      <td>15999.0</td>\n",
       "      <td>16900.0</td>\n",
       "      <td>14851.0</td>\n",
       "      <td>14851.0</td>\n",
       "      <td>14851.0</td>\n",
       "    </tr>\n",
       "    <tr>\n",
       "      <th>120072</th>\n",
       "      <td>23533.0</td>\n",
       "      <td>23533.0</td>\n",
       "      <td>23533.0</td>\n",
       "      <td>17700.0</td>\n",
       "      <td>17700.0</td>\n",
       "      <td>17700.0</td>\n",
       "      <td>17700.0</td>\n",
       "      <td>17700.0</td>\n",
       "      <td>17700.0</td>\n",
       "      <td>17700.0</td>\n",
       "    </tr>\n",
       "    <tr>\n",
       "      <th>99878</th>\n",
       "      <td>12989.0</td>\n",
       "      <td>12989.0</td>\n",
       "      <td>12989.0</td>\n",
       "      <td>12989.0</td>\n",
       "      <td>12989.0</td>\n",
       "      <td>12989.0</td>\n",
       "      <td>12989.0</td>\n",
       "      <td>12989.0</td>\n",
       "      <td>12989.0</td>\n",
       "      <td>12989.0</td>\n",
       "    </tr>\n",
       "    <tr>\n",
       "      <th>387162</th>\n",
       "      <td>10991.0</td>\n",
       "      <td>10751.0</td>\n",
       "      <td>12922.0</td>\n",
       "      <td>11995.0</td>\n",
       "      <td>11984.0</td>\n",
       "      <td>10991.0</td>\n",
       "      <td>12922.0</td>\n",
       "      <td>12800.0</td>\n",
       "      <td>11995.0</td>\n",
       "      <td>11984.0</td>\n",
       "    </tr>\n",
       "  </tbody>\n",
       "</table>\n",
       "<p>3464 rows × 10 columns</p>\n",
       "</div>"
      ],
      "text/plain": [
       "              0        1        2        3        4        5        6  \\\n",
       "257343  14980.0  13990.0  14980.0  12488.0  12488.0  12489.0  12488.0   \n",
       "326011   6492.0   5995.0   6492.0   6492.0   6492.0   6492.0   6999.0   \n",
       "242354  16491.0  16491.0  16491.0  16491.0  16491.0  16491.0  16491.0   \n",
       "266376  21990.0  21990.0  21990.0  15988.0  15988.0  15900.0  15900.0   \n",
       "396954  15988.0  15988.0  15988.0  15988.0  15988.0  15988.0  15988.0   \n",
       "...         ...      ...      ...      ...      ...      ...      ...   \n",
       "144298  13836.0  15121.0  13836.0  17561.0  17561.0  16468.0  16468.0   \n",
       "364521  15999.0  15999.0  14851.0  14851.0  15999.0  15999.0  16900.0   \n",
       "120072  23533.0  23533.0  23533.0  17700.0  17700.0  17700.0  17700.0   \n",
       "99878   12989.0  12989.0  12989.0  12989.0  12989.0  12989.0  12989.0   \n",
       "387162  10991.0  10751.0  12922.0  11995.0  11984.0  10991.0  12922.0   \n",
       "\n",
       "              7        8        9  \n",
       "257343  11995.0  12488.0  11995.0  \n",
       "326011   6492.0   6492.0   6492.0  \n",
       "242354  16491.0  16491.0  16491.0  \n",
       "266376  15900.0  15900.0  15900.0  \n",
       "396954  15988.0  15988.0  15988.0  \n",
       "...         ...      ...      ...  \n",
       "144298  16468.0  14999.0  16468.0  \n",
       "364521  14851.0  14851.0  14851.0  \n",
       "120072  17700.0  17700.0  17700.0  \n",
       "99878   12989.0  12989.0  12989.0  \n",
       "387162  12800.0  11995.0  11984.0  \n",
       "\n",
       "[3464 rows x 10 columns]"
      ]
     },
     "execution_count": 7,
     "metadata": {},
     "output_type": "execute_result"
    }
   ],
   "source": [
    "# Construcción un árbol de decisión para cada muestra boostrap\n",
    "\n",
    "from sklearn.tree import DecisionTreeRegressor\n",
    "\n",
    "# Definición del modelo usando DecisionTreeRegressor de sklearn\n",
    "treereg = DecisionTreeRegressor(max_depth=None, random_state=123)\n",
    "\n",
    "# DataFrame para guardar las predicciones de cada árbol\n",
    "y_pred = pd.DataFrame(index=X_test.index, columns=[list(range(n_B))])\n",
    "\n",
    "# Entrenamiento de un árbol sobre cada muestra boostrap y predicción sobre los datos de test\n",
    "for i, sample in enumerate(samples):\n",
    "    X_train = X_train.iloc[sample,:]\n",
    "    y_train = y_train.iloc[sample]\n",
    "    treereg.fit(X_train, y_train)\n",
    "    y_pred.iloc[:,i] = treereg.predict(X_test)\n",
    "    \n",
    "y_pred"
   ]
  },
  {
   "cell_type": "code",
   "execution_count": 8,
   "metadata": {},
   "outputs": [
    {
     "name": "stdout",
     "output_type": "stream",
     "text": [
      "Árbol  0 tiene un error:  2141.613353645869\n",
      "Árbol  1 tiene un error:  2094.921651442501\n",
      "Árbol  2 tiene un error:  2143.588943820465\n",
      "Árbol  3 tiene un error:  2091.5765590558344\n",
      "Árbol  4 tiene un error:  2101.269034680839\n",
      "Árbol  5 tiene un error:  2166.1579741770674\n",
      "Árbol  6 tiene un error:  2167.965320861841\n",
      "Árbol  7 tiene un error:  2160.523932246401\n",
      "Árbol  8 tiene un error:  2160.7735197631982\n",
      "Árbol  9 tiene un error:  2133.42356958019\n"
     ]
    }
   ],
   "source": [
    "# Desempeño de cada árbol\n",
    "import sklearn\n",
    "import numpy as np\n",
    "\n",
    "from sklearn.metrics import mean_absolute_error\n",
    "from sklearn.metrics import mean_squared_error\n",
    "from sklearn.ensemble import BaggingRegressor\n",
    "from sklearn.tree import DecisionTreeRegressor\n",
    "for i in range(n_B):\n",
    "    print('Árbol ', i, 'tiene un error: ', np.sqrt(mean_squared_error(y_pred.iloc[:,i], y_test)))"
   ]
  },
  {
   "cell_type": "code",
   "execution_count": 9,
   "metadata": {},
   "outputs": [
    {
     "data": {
      "text/plain": [
       "257343    13038.1\n",
       "326011     6493.0\n",
       "242354    16491.0\n",
       "266376    17744.6\n",
       "396954    15988.0\n",
       "           ...   \n",
       "144298    15878.6\n",
       "364521    15515.1\n",
       "120072    19449.9\n",
       "99878     12989.0\n",
       "387162    11933.5\n",
       "Length: 3464, dtype: float64"
      ]
     },
     "execution_count": 9,
     "metadata": {},
     "output_type": "execute_result"
    }
   ],
   "source": [
    "# Predicciones promedio para cada obserbación del set de test\n",
    "y_pred.mean(axis=1)"
   ]
  },
  {
   "cell_type": "code",
   "execution_count": 23,
   "metadata": {},
   "outputs": [
    {
     "ename": "AxisError",
     "evalue": "axis 1 is out of bounds for array of dimension 1",
     "output_type": "error",
     "traceback": [
      "\u001b[1;31m---------------------------------------------------------------------------\u001b[0m",
      "\u001b[1;31mAxisError\u001b[0m                                 Traceback (most recent call last)",
      "\u001b[1;32m~\\AppData\\Local\\Temp\\ipykernel_18136\\806030799.py\u001b[0m in \u001b[0;36m<module>\u001b[1;34m\u001b[0m\n\u001b[0;32m      1\u001b[0m \u001b[1;31m# Error al promediar las predicciones de todos los árboles\u001b[0m\u001b[1;33m\u001b[0m\u001b[1;33m\u001b[0m\u001b[0m\n\u001b[1;32m----> 2\u001b[1;33m \u001b[0mbag_mse\u001b[0m \u001b[1;33m=\u001b[0m \u001b[0mnp\u001b[0m\u001b[1;33m.\u001b[0m\u001b[0msqrt\u001b[0m\u001b[1;33m(\u001b[0m\u001b[0mmean_squared_error\u001b[0m\u001b[1;33m(\u001b[0m\u001b[0my_test\u001b[0m\u001b[1;33m,\u001b[0m \u001b[0my_pred\u001b[0m\u001b[1;33m.\u001b[0m\u001b[0mmean\u001b[0m\u001b[1;33m(\u001b[0m\u001b[0maxis\u001b[0m\u001b[1;33m=\u001b[0m\u001b[1;36m1\u001b[0m\u001b[1;33m)\u001b[0m\u001b[1;33m)\u001b[0m\u001b[1;33m)\u001b[0m\u001b[1;33m\u001b[0m\u001b[1;33m\u001b[0m\u001b[0m\n\u001b[0m",
      "\u001b[1;32m~\\anaconda3\\lib\\site-packages\\numpy\\core\\_methods.py\u001b[0m in \u001b[0;36m_mean\u001b[1;34m(a, axis, dtype, out, keepdims, where)\u001b[0m\n\u001b[0;32m    165\u001b[0m     \u001b[0mis_float16_result\u001b[0m \u001b[1;33m=\u001b[0m \u001b[1;32mFalse\u001b[0m\u001b[1;33m\u001b[0m\u001b[1;33m\u001b[0m\u001b[0m\n\u001b[0;32m    166\u001b[0m \u001b[1;33m\u001b[0m\u001b[0m\n\u001b[1;32m--> 167\u001b[1;33m     \u001b[0mrcount\u001b[0m \u001b[1;33m=\u001b[0m \u001b[0m_count_reduce_items\u001b[0m\u001b[1;33m(\u001b[0m\u001b[0marr\u001b[0m\u001b[1;33m,\u001b[0m \u001b[0maxis\u001b[0m\u001b[1;33m,\u001b[0m \u001b[0mkeepdims\u001b[0m\u001b[1;33m=\u001b[0m\u001b[0mkeepdims\u001b[0m\u001b[1;33m,\u001b[0m \u001b[0mwhere\u001b[0m\u001b[1;33m=\u001b[0m\u001b[0mwhere\u001b[0m\u001b[1;33m)\u001b[0m\u001b[1;33m\u001b[0m\u001b[1;33m\u001b[0m\u001b[0m\n\u001b[0m\u001b[0;32m    168\u001b[0m     \u001b[1;32mif\u001b[0m \u001b[0mrcount\u001b[0m \u001b[1;33m==\u001b[0m \u001b[1;36m0\u001b[0m \u001b[1;32mif\u001b[0m \u001b[0mwhere\u001b[0m \u001b[1;32mis\u001b[0m \u001b[1;32mTrue\u001b[0m \u001b[1;32melse\u001b[0m \u001b[0mumr_any\u001b[0m\u001b[1;33m(\u001b[0m\u001b[0mrcount\u001b[0m \u001b[1;33m==\u001b[0m \u001b[1;36m0\u001b[0m\u001b[1;33m,\u001b[0m \u001b[0maxis\u001b[0m\u001b[1;33m=\u001b[0m\u001b[1;32mNone\u001b[0m\u001b[1;33m)\u001b[0m\u001b[1;33m:\u001b[0m\u001b[1;33m\u001b[0m\u001b[1;33m\u001b[0m\u001b[0m\n\u001b[0;32m    169\u001b[0m         \u001b[0mwarnings\u001b[0m\u001b[1;33m.\u001b[0m\u001b[0mwarn\u001b[0m\u001b[1;33m(\u001b[0m\u001b[1;34m\"Mean of empty slice.\"\u001b[0m\u001b[1;33m,\u001b[0m \u001b[0mRuntimeWarning\u001b[0m\u001b[1;33m,\u001b[0m \u001b[0mstacklevel\u001b[0m\u001b[1;33m=\u001b[0m\u001b[1;36m2\u001b[0m\u001b[1;33m)\u001b[0m\u001b[1;33m\u001b[0m\u001b[1;33m\u001b[0m\u001b[0m\n",
      "\u001b[1;32m~\\anaconda3\\lib\\site-packages\\numpy\\core\\_methods.py\u001b[0m in \u001b[0;36m_count_reduce_items\u001b[1;34m(arr, axis, keepdims, where)\u001b[0m\n\u001b[0;32m     74\u001b[0m         \u001b[0mitems\u001b[0m \u001b[1;33m=\u001b[0m \u001b[0mnt\u001b[0m\u001b[1;33m.\u001b[0m\u001b[0mintp\u001b[0m\u001b[1;33m(\u001b[0m\u001b[1;36m1\u001b[0m\u001b[1;33m)\u001b[0m\u001b[1;33m\u001b[0m\u001b[1;33m\u001b[0m\u001b[0m\n\u001b[0;32m     75\u001b[0m         \u001b[1;32mfor\u001b[0m \u001b[0max\u001b[0m \u001b[1;32min\u001b[0m \u001b[0maxis\u001b[0m\u001b[1;33m:\u001b[0m\u001b[1;33m\u001b[0m\u001b[1;33m\u001b[0m\u001b[0m\n\u001b[1;32m---> 76\u001b[1;33m             \u001b[0mitems\u001b[0m \u001b[1;33m*=\u001b[0m \u001b[0marr\u001b[0m\u001b[1;33m.\u001b[0m\u001b[0mshape\u001b[0m\u001b[1;33m[\u001b[0m\u001b[0mmu\u001b[0m\u001b[1;33m.\u001b[0m\u001b[0mnormalize_axis_index\u001b[0m\u001b[1;33m(\u001b[0m\u001b[0max\u001b[0m\u001b[1;33m,\u001b[0m \u001b[0marr\u001b[0m\u001b[1;33m.\u001b[0m\u001b[0mndim\u001b[0m\u001b[1;33m)\u001b[0m\u001b[1;33m]\u001b[0m\u001b[1;33m\u001b[0m\u001b[1;33m\u001b[0m\u001b[0m\n\u001b[0m\u001b[0;32m     77\u001b[0m     \u001b[1;32melse\u001b[0m\u001b[1;33m:\u001b[0m\u001b[1;33m\u001b[0m\u001b[1;33m\u001b[0m\u001b[0m\n\u001b[0;32m     78\u001b[0m         \u001b[1;31m# TODO: Optimize case when `where` is broadcast along a non-reduction\u001b[0m\u001b[1;33m\u001b[0m\u001b[1;33m\u001b[0m\u001b[0m\n",
      "\u001b[1;31mAxisError\u001b[0m: axis 1 is out of bounds for array of dimension 1"
     ]
    }
   ],
   "source": [
    "# Error al promediar las predicciones de todos los árboles\n",
    "bag_mse = np.sqrt(mean_squared_error(y_test, y_pred.mean(axis=1)))"
   ]
  },
  {
   "cell_type": "markdown",
   "metadata": {},
   "source": [
    "El modelo tiene un MSE de 1862.89, donde se evalúan 10 árboles de clasificación con muestras boostrap"
   ]
  },
  {
   "cell_type": "markdown",
   "metadata": {},
   "source": [
    "### Punto 3 - Bagging con librería\n",
    "\n",
    "En la celda 3, con la librería sklearn, entrenen un modelo bagging con 10 árboles de clasificación y el parámetro `max_features` igual a `log(n_features)` y comenten sobre el desempeño del modelo."
   ]
  },
  {
   "cell_type": "code",
   "execution_count": 11,
   "metadata": {},
   "outputs": [
    {
     "name": "stdout",
     "output_type": "stream",
     "text": [
      "MSE: 2731388.040553463\n",
      "Mean MAE: 1232.8099889223142\n"
     ]
    }
   ],
   "source": [
    "# Celda 3\n",
    "\n",
    "n_features=2\n",
    "base_model = DecisionTreeRegressor(random_state=42,max_depth=5)\n",
    "\n",
    "bagging_model = BaggingRegressor(base_estimator=base_model,n_estimators=10,max_features=np.log(n_features), random_state=42)\n",
    "bagging_model.fit(X_train, y_train)\n",
    "\n",
    "y_pred=bagging_model.predict(X_test)\n",
    "\n",
    "#Desempeño del modelo\n",
    "mae_bagging = mean_absolute_error(y_pred, y_test)\n",
    "mse_bagging =  mean_squared_error(y_test, y_pred)\n",
    "print('MSE:', mse_bagging)\n",
    "print('Mean MAE:', mae_bagging)"
   ]
  },
  {
   "cell_type": "markdown",
   "metadata": {},
   "source": [
    "### Punto 4 - Random forest con librería\n",
    "\n",
    "En la celda 4, usando la librería sklearn entrenen un modelo de Randon Forest para clasificación  y comenten sobre el desempeño del modelo."
   ]
  },
  {
   "cell_type": "code",
   "execution_count": 12,
   "metadata": {},
   "outputs": [
    {
     "data": {
      "text/html": [
       "<style>#sk-container-id-1 {color: black;background-color: white;}#sk-container-id-1 pre{padding: 0;}#sk-container-id-1 div.sk-toggleable {background-color: white;}#sk-container-id-1 label.sk-toggleable__label {cursor: pointer;display: block;width: 100%;margin-bottom: 0;padding: 0.3em;box-sizing: border-box;text-align: center;}#sk-container-id-1 label.sk-toggleable__label-arrow:before {content: \"▸\";float: left;margin-right: 0.25em;color: #696969;}#sk-container-id-1 label.sk-toggleable__label-arrow:hover:before {color: black;}#sk-container-id-1 div.sk-estimator:hover label.sk-toggleable__label-arrow:before {color: black;}#sk-container-id-1 div.sk-toggleable__content {max-height: 0;max-width: 0;overflow: hidden;text-align: left;background-color: #f0f8ff;}#sk-container-id-1 div.sk-toggleable__content pre {margin: 0.2em;color: black;border-radius: 0.25em;background-color: #f0f8ff;}#sk-container-id-1 input.sk-toggleable__control:checked~div.sk-toggleable__content {max-height: 200px;max-width: 100%;overflow: auto;}#sk-container-id-1 input.sk-toggleable__control:checked~label.sk-toggleable__label-arrow:before {content: \"▾\";}#sk-container-id-1 div.sk-estimator input.sk-toggleable__control:checked~label.sk-toggleable__label {background-color: #d4ebff;}#sk-container-id-1 div.sk-label input.sk-toggleable__control:checked~label.sk-toggleable__label {background-color: #d4ebff;}#sk-container-id-1 input.sk-hidden--visually {border: 0;clip: rect(1px 1px 1px 1px);clip: rect(1px, 1px, 1px, 1px);height: 1px;margin: -1px;overflow: hidden;padding: 0;position: absolute;width: 1px;}#sk-container-id-1 div.sk-estimator {font-family: monospace;background-color: #f0f8ff;border: 1px dotted black;border-radius: 0.25em;box-sizing: border-box;margin-bottom: 0.5em;}#sk-container-id-1 div.sk-estimator:hover {background-color: #d4ebff;}#sk-container-id-1 div.sk-parallel-item::after {content: \"\";width: 100%;border-bottom: 1px solid gray;flex-grow: 1;}#sk-container-id-1 div.sk-label:hover label.sk-toggleable__label {background-color: #d4ebff;}#sk-container-id-1 div.sk-serial::before {content: \"\";position: absolute;border-left: 1px solid gray;box-sizing: border-box;top: 0;bottom: 0;left: 50%;z-index: 0;}#sk-container-id-1 div.sk-serial {display: flex;flex-direction: column;align-items: center;background-color: white;padding-right: 0.2em;padding-left: 0.2em;position: relative;}#sk-container-id-1 div.sk-item {position: relative;z-index: 1;}#sk-container-id-1 div.sk-parallel {display: flex;align-items: stretch;justify-content: center;background-color: white;position: relative;}#sk-container-id-1 div.sk-item::before, #sk-container-id-1 div.sk-parallel-item::before {content: \"\";position: absolute;border-left: 1px solid gray;box-sizing: border-box;top: 0;bottom: 0;left: 50%;z-index: -1;}#sk-container-id-1 div.sk-parallel-item {display: flex;flex-direction: column;z-index: 1;position: relative;background-color: white;}#sk-container-id-1 div.sk-parallel-item:first-child::after {align-self: flex-end;width: 50%;}#sk-container-id-1 div.sk-parallel-item:last-child::after {align-self: flex-start;width: 50%;}#sk-container-id-1 div.sk-parallel-item:only-child::after {width: 0;}#sk-container-id-1 div.sk-dashed-wrapped {border: 1px dashed gray;margin: 0 0.4em 0.5em 0.4em;box-sizing: border-box;padding-bottom: 0.4em;background-color: white;}#sk-container-id-1 div.sk-label label {font-family: monospace;font-weight: bold;display: inline-block;line-height: 1.2em;}#sk-container-id-1 div.sk-label-container {text-align: center;}#sk-container-id-1 div.sk-container {/* jupyter's `normalize.less` sets `[hidden] { display: none; }` but bootstrap.min.css set `[hidden] { display: none !important; }` so we also need the `!important` here to be able to override the default hidden behavior on the sphinx rendered scikit-learn.org. See: https://github.com/scikit-learn/scikit-learn/issues/21755 */display: inline-block !important;position: relative;}#sk-container-id-1 div.sk-text-repr-fallback {display: none;}</style><div id=\"sk-container-id-1\" class=\"sk-top-container\"><div class=\"sk-text-repr-fallback\"><pre>RandomForestRegressor()</pre><b>In a Jupyter environment, please rerun this cell to show the HTML representation or trust the notebook. <br />On GitHub, the HTML representation is unable to render, please try loading this page with nbviewer.org.</b></div><div class=\"sk-container\" hidden><div class=\"sk-item\"><div class=\"sk-estimator sk-toggleable\"><input class=\"sk-toggleable__control sk-hidden--visually\" id=\"sk-estimator-id-1\" type=\"checkbox\" checked><label for=\"sk-estimator-id-1\" class=\"sk-toggleable__label sk-toggleable__label-arrow\">RandomForestRegressor</label><div class=\"sk-toggleable__content\"><pre>RandomForestRegressor()</pre></div></div></div></div></div>"
      ],
      "text/plain": [
       "RandomForestRegressor()"
      ]
     },
     "execution_count": 12,
     "metadata": {},
     "output_type": "execute_result"
    }
   ],
   "source": [
    "# Celda 4\n",
    "from sklearn.ensemble import RandomForestRegressor\n",
    "from sklearn.metrics import mean_squared_error\n",
    "import math as m\n",
    "rf = RandomForestRegressor()\n",
    "# Entrenamos el modelo\n",
    "rf.fit(X_train, y_train)"
   ]
  },
  {
   "cell_type": "code",
   "execution_count": 13,
   "metadata": {},
   "outputs": [
    {
     "name": "stdout",
     "output_type": "stream",
     "text": [
      "MSE: 3830705.503941707\n",
      "Como vemos, el modelo ejecutado en promedio tiene un error de $1957.0 en sus predicciones\n",
      "Mean MAE: 1466.5217077129553\n"
     ]
    }
   ],
   "source": [
    "# Hacemos la prediccion y obervamos los resultados \n",
    "y_pred = rf.predict(X_test)\n",
    "mse_rf = mean_squared_error(y_test, y_pred)\n",
    "print(\"MSE:\", mse_rf)\n",
    "print(f\"Como vemos, el modelo ejecutado en promedio tiene un error de ${round(m.sqrt(mse),0)} en sus predicciones\")\n",
    "\n",
    "mae_rf = mean_absolute_error(y_pred, y_test)\n",
    "print('Mean MAE:', mae_rf)"
   ]
  },
  {
   "cell_type": "markdown",
   "metadata": {},
   "source": [
    "### Punto 5 - Calibración de parámetros Random forest\n",
    "\n",
    "En la celda 5, calibren los parámetros max_depth, max_features y n_estimators del modelo de Randon Forest para clasificación, comenten sobre el desempeño del modelo y describan cómo cada parámetro afecta el desempeño del modelo."
   ]
  },
  {
   "cell_type": "code",
   "execution_count": 14,
   "metadata": {},
   "outputs": [
    {
     "name": "stdout",
     "output_type": "stream",
     "text": [
      "Score promedio con 10 estimadores: 0.796329\n",
      "Score promedio con 20 estimadores: 0.799568\n",
      "Score promedio con 30 estimadores: 0.801205\n",
      "Score promedio con 40 estimadores: 0.801851\n",
      "Score promedio con 50 estimadores: 0.801703\n",
      "Score promedio con 60 estimadores: 0.802111\n",
      "Score promedio con 70 estimadores: 0.802207\n",
      "Score promedio con 80 estimadores: 0.802282\n",
      "Score promedio con 90 estimadores: 0.802244\n",
      "Score promedio con 100 estimadores: 0.802207\n",
      "Score promedio con 110 estimadores: 0.802395\n",
      "Score promedio con 120 estimadores: 0.802344\n",
      "Score promedio con 130 estimadores: 0.802462\n",
      "Score promedio con 140 estimadores: 0.802640\n",
      "Score promedio con 150 estimadores: 0.802671\n",
      "Score promedio con 160 estimadores: 0.802629\n",
      "Score promedio con 170 estimadores: 0.802583\n",
      "Score promedio con 180 estimadores: 0.802581\n",
      "Score promedio con 190 estimadores: 0.802599\n",
      "Score promedio con 200 estimadores: 0.802603\n",
      "Score promedio con 210 estimadores: 0.802515\n",
      "Score promedio con 220 estimadores: 0.802520\n",
      "Score promedio con 230 estimadores: 0.802564\n",
      "Score promedio con 240 estimadores: 0.802612\n",
      "Score promedio con 250 estimadores: 0.802708\n",
      "Score promedio con 260 estimadores: 0.802748\n",
      "Score promedio con 270 estimadores: 0.802707\n",
      "Score promedio con 280 estimadores: 0.802727\n",
      "Score promedio con 290 estimadores: 0.802743\n",
      "Score promedio con 300 estimadores: 0.802762\n"
     ]
    }
   ],
   "source": [
    "# Celda 5\n",
    "# Primero vamos a calibrar el numero de estimadores\n",
    "# Creación de lista de valores para iterar sobre diferentes valores de n_estimators\n",
    "from sklearn.model_selection import cross_val_score\n",
    "estimator_range = range(10, 310, 10)\n",
    "\n",
    "# Definición de lista para almacenar la exactitud (accuracy) promedio para cada valor de n_estimators\n",
    "scores = []\n",
    "\n",
    "# Uso de un 5-fold cross-validation para cada valor de n_estimators\n",
    "scores = []\n",
    "for n in estimator_range:\n",
    "    rf = RandomForestRegressor(n_estimators=n, random_state=1, n_jobs=-1)\n",
    "    score = cross_val_score(rf, X, y, cv=5)\n",
    "    scores.append(np.mean(score))\n",
    "    print(\"Score promedio con %d estimadores: %f\" % (n, scores[-1]))"
   ]
  },
  {
   "cell_type": "code",
   "execution_count": 15,
   "metadata": {},
   "outputs": [
    {
     "data": {
      "text/plain": [
       "Text(0, 0.5, 'Score')"
      ]
     },
     "execution_count": 15,
     "metadata": {},
     "output_type": "execute_result"
    },
    {
     "data": {
      "image/png": "[encoded data removed]",
      "text/plain": [
       "<Figure size 432x288 with 1 Axes>"
      ]
     },
     "metadata": {
      "needs_background": "light"
     },
     "output_type": "display_data"
    }
   ],
   "source": [
    "# Gráfica del desempeño del modelo vs la cantidad de n_estimators\n",
    "plt.plot(estimator_range, scores)\n",
    "plt.xlabel('n_estimators')\n",
    "plt.ylabel('Score')"
   ]
  },
  {
   "cell_type": "markdown",
   "metadata": {},
   "source": [
    "Vemos que a aproximadamente a partir de los 150 estimadores, los resultados no cambian significativamente, por lo que este sera el numero de estimadores que vamos a usar"
   ]
  },
  {
   "cell_type": "code",
   "execution_count": 16,
   "metadata": {},
   "outputs": [
    {
     "name": "stdout",
     "output_type": "stream",
     "text": [
      "Score promedio con 1 estimadores: 0.796021\n",
      "Score promedio con 2 estimadores: 0.796002\n",
      "Score promedio con 3 estimadores: 0.796187\n",
      "Score promedio con 4 estimadores: 0.796593\n",
      "Score promedio con 5 estimadores: 0.797609\n",
      "Score promedio con 6 estimadores: 0.798521\n",
      "Score promedio con 7 estimadores: 0.800100\n",
      "Score promedio con 8 estimadores: 0.801447\n",
      "Score promedio con 9 estimadores: 0.802671\n"
     ]
    }
   ],
   "source": [
    "# Creación de lista de valores para iterar sobre diferentes valores de max_features\n",
    "feature_range = range(1, len(X.columns)+1)\n",
    "\n",
    "# Definición de lista para almacenar la exactitud (accuracy) promedio para cada valor de max_features\n",
    "scores = []\n",
    "for n in feature_range:\n",
    "    rf = RandomForestRegressor(n_estimators=150, max_features=n, random_state=1, n_jobs=-1)\n",
    "    score = cross_val_score(rf, X, y, cv=5)\n",
    "    scores.append(np.mean(score))\n",
    "    print(\"Score promedio con %d estimadores: %f\" % (n, scores[-1]))"
   ]
  },
  {
   "cell_type": "code",
   "execution_count": 17,
   "metadata": {},
   "outputs": [
    {
     "data": {
      "text/plain": [
       "Text(0, 0.5, 'Score')"
      ]
     },
     "execution_count": 17,
     "metadata": {},
     "output_type": "execute_result"
    },
    {
     "data": {
      "image/png": "[encoded data removed]",
      "text/plain": [
       "<Figure size 432x288 with 1 Axes>"
      ]
     },
     "metadata": {
      "needs_background": "light"
     },
     "output_type": "display_data"
    }
   ],
   "source": [
    "# Gráfica del desempeño del modelo vs la cantidad de n_estimators\n",
    "plt.plot(feature_range, scores)\n",
    "plt.xlabel('n_features')\n",
    "plt.ylabel('Score')"
   ]
  },
  {
   "cell_type": "markdown",
   "metadata": {},
   "source": [
    "Como vemos, el modelo mejora a medida que vamos agregando variables, por lo que no podemos hacer un corte en el numero de variables del modelo"
   ]
  },
  {
   "cell_type": "code",
   "execution_count": 18,
   "metadata": {},
   "outputs": [
    {
     "name": "stdout",
     "output_type": "stream",
     "text": [
      "MSE: 3810579.6676088315\n",
      "Como vemos, el modelo ejecutado en promedio tiene un error de $1957.0 en sus predicciones\n"
     ]
    }
   ],
   "source": [
    "# Hacemos la prediccion con los parametros calibrados del modelo\n",
    "rf = RandomForestRegressor(n_estimators=150, max_features = 9)\n",
    "# Entrenamos el modelo\n",
    "rf.fit(X_train, y_train)\n",
    "y_pred = rf.predict(X_test)\n",
    "mse1 = mean_squared_error(y_test, y_pred)\n",
    "print(\"MSE:\", mse1)\n",
    "print(f\"Como vemos, el modelo ejecutado en promedio tiene un error de ${round(m.sqrt(mse),0)} en sus predicciones\")"
   ]
  },
  {
   "cell_type": "markdown",
   "metadata": {},
   "source": [
    "Si comparamos con el modelo ejecutado antes de la calibracion, vemos que no hay una diferencia significativa entre el uno y el otro. El primer modelo tenia un error de 1757 en promedio, y el calibrado de 1755 dolares"
   ]
  },
  {
   "cell_type": "markdown",
   "metadata": {},
   "source": [
    "### Punto 6 - XGBoost con librería\n",
    "\n",
    "En la celda 6 implementen un modelo XGBoost de clasificación con la librería sklearn y comenten sobre el desempeño del modelo."
   ]
  },
  {
   "cell_type": "code",
   "execution_count": 19,
   "metadata": {},
   "outputs": [],
   "source": [
    "# Celda 6\n",
    "!pip install xgboost\n",
    "\n",
    "from xgboost import XGBRegressor\n",
    "boost = XGBRegressor()\n",
    "boost.fit(X_train, y_train)\n",
    "y_pred = boost.predict(X_test)"
   ]
  },
  {
   "cell_type": "code",
   "execution_count": 20,
   "metadata": {},
   "outputs": [
    {
     "name": "stdout",
     "output_type": "stream",
     "text": [
      "Mean MSE_XGBoost: 3415869.6068107006\n",
      "Mean MAE_XGBoost: 1368.321854025332\n"
     ]
    }
   ],
   "source": [
    "#Desempeño del modelo\n",
    "mae_xg = mean_absolute_error(y_pred, y_test)\n",
    "mse_xg =  mean_squared_error(y_test, y_pred)\n",
    "\n",
    "print('Mean MSE_XGBoost:', mse_xg)\n",
    "print('Mean MAE_XGBoost:', mae_xg )"
   ]
  },
  {
   "cell_type": "markdown",
   "metadata": {},
   "source": [
    "### Punto 7 - Calibración de parámetros XGBoost\n",
    "\n",
    "En la celda 7 calibren los parámetros learning rate, gamma y colsample_bytree del modelo XGBoost para clasificación, comenten sobre el desempeño del modelo y describan cómo cada parámetro afecta el desempeño del modelo."
   ]
  },
  {
   "cell_type": "markdown",
   "metadata": {},
   "source": [
    "XGBoost es una técnica de aprendizaje automático que se utiliza para la clasificación y regresión de datos. El modelo utiliza una serie de árboles de decisión y la optimización de funciones de pérdida para mejorar la precisión de las predicciones. A través de la calibración de los parámetros, podemos ajustar el modelo para maximizar su desempeño y obtener los mejores resultados posibles.\n",
    "\n",
    "El primer parámetro a considerar es el learning rate, que controla la tasa de aprendizaje del modelo. Un valor alto puede causar que el modelo salte sobre los mínimos locales y no logre converger, mientras que un valor bajo puede hacer que el modelo sea muy lento y requiera un mayor número de iteraciones para converger. Por lo tanto, es importante encontrar un equilibrio en la tasa de aprendizaje que permita que el modelo converja de manera efectiva sin sacrificar la velocidad.\n",
    "\n",
    "El segundo parámetro a considerar es el gamma, que controla la complejidad del modelo al limitar la cantidad de nodos en cada árbol de decisión. Un valor alto de gamma puede causar que el modelo sea demasiado simple y no logre capturar toda la complejidad de los datos, mientras que un valor bajo puede hacer que el modelo sea demasiado complejo y cause overfitting. Por lo tanto, es importante encontrar un equilibrio en la complejidad del modelo que permita que capture suficientemente la complejidad de los datos sin sacrificar la generalización.\n",
    "\n",
    "El tercer parámetro a considerar es el colsample_bytree, que controla la cantidad de columnas utilizadas en cada árbol de decisión. Un valor alto puede causar overfitting al utilizar demasiadas columnas, mientras que un valor bajo puede hacer que el modelo pierda información importante. Por lo tanto, es importante encontrar un equilibrio en la cantidad de columnas que permite al modelo utilizar suficiente información para hacer predicciones precisas sin causar overfitting.\n",
    "\n",
    "En resumen, la calibración de los parámetros learning rate, gamma y colsample_bytree en XGBoost es esencial para maximizar la precisión de las predicciones. Es importante encontrar un equilibrio en cada parámetro que permita que el modelo capture la complejidad de los datos sin sacrificar la velocidad o la generalización."
   ]
  },
  {
   "cell_type": "markdown",
   "metadata": {},
   "source": [
    "### Punto 8 - Comparación y análisis de resultados\n",
    "En la celda 8 comparen los resultados obtenidos de los diferentes modelos (random forest y XGBoost) y comenten las ventajas del mejor modelo y las desventajas del modelo con el menor desempeño."
   ]
  },
  {
   "cell_type": "code",
   "execution_count": 25,
   "metadata": {},
   "outputs": [
    {
     "data": {
      "image/png": "[encoded data removed]",
      "text/plain": [
       "<Figure size 432x288 with 1 Axes>"
      ]
     },
     "metadata": {
      "needs_background": "light"
     },
     "output_type": "display_data"
    }
   ],
   "source": [
    "# Celda 8\n",
    "fig = plt.figure()\n",
    "ax = fig.add_axes([0,0,1,1])\n",
    "#Asignamos el titulo\n",
    "ax.set_title(\"Comparación de modelos RMS\")\n",
    "\n",
    "ejeX = [ 'Bagging','Random Forest','RFL', 'XGBoost']\n",
    "ejeY = [round(mse_bagging,3),round(mse,3),round(mse1,3),round(mse_xg,3)]\n",
    "ax.bar(ejeX,ejeY)\n",
    "\n",
    "def addlabels(x,y,plotP):\n",
    "    for i in range(len(x)):\n",
    "        plotP.text(i,y[i],y[i])\n",
    "addlabels(ejeX,ejeY,plt)\n",
    "plt.show()\n"
   ]
  },
  {
   "cell_type": "markdown",
   "metadata": {},
   "source": [
    "De acuerdo con los resultados obtenidos, se puede concluir que el modelo Bagging tiene un mejor desempeño que el modelo Random Forest y XGBoost para este conjunto de datos en particular. El valor de MSE obtenido para el modelo Bagging (2731388.04) es significativamente menor que los valores obtenidos para el modelo XGBoost (3415869.6) y Random Forest (3810579.6 y 3830705.5). lo que sugiere que el modelo Bagging es una opción viable para este conjunto de datos, especialmente si se busca minimizar el error cuadrático medio. Sin embargo, es importante tener en cuenta que los resultados obtenidos pueden variar para diferentes conjuntos de datos y que es necesario realizar una evaluación más detallada de los modelos antes de seleccionar el más adecuado para una tarea específica."
   ]
  }
 ],
 "metadata": {
  "kernelspec": {
   "display_name": "Python 3",
   "language": "python",
   "name": "python3"
  },
  "language_info": {
   "codemirror_mode": {
    "name": "ipython",
    "version": 3
   },
   "file_extension": ".py",
   "mimetype": "text/x-python",
   "name": "python",
   "nbconvert_exporter": "python",
   "pygments_lexer": "ipython3",
   "version": "3.9.12"
  }
 },
 "nbformat": 4,
 "nbformat_minor": 4
}
